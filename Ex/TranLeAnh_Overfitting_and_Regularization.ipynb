{
  "cells": [
    {
      "cell_type": "code",
      "execution_count": 3,
      "metadata": {
        "id": "ANVSXrimIETs"
      },
      "outputs": [],
      "source": [
        "import numpy as np\n",
        "import pandas as pd\n",
        "import matplotlib.pyplot as plt\n",
        "from sklearn.model_selection import train_test_split"
      ]
    },
    {
      "cell_type": "code",
      "execution_count": 4,
      "metadata": {
        "colab": {
          "base_uri": "https://localhost:8080/",
          "height": 206
        },
        "id": "N6wqf9GUYZg6",
        "outputId": "d2fc28fe-3237-4944-87b1-7339ce5f1064"
      },
      "outputs": [
        {
          "data": {
            "text/html": [
              "<div>\n",
              "<style scoped>\n",
              "    .dataframe tbody tr th:only-of-type {\n",
              "        vertical-align: middle;\n",
              "    }\n",
              "\n",
              "    .dataframe tbody tr th {\n",
              "        vertical-align: top;\n",
              "    }\n",
              "\n",
              "    .dataframe thead th {\n",
              "        text-align: right;\n",
              "    }\n",
              "</style>\n",
              "<table border=\"1\" class=\"dataframe\">\n",
              "  <thead>\n",
              "    <tr style=\"text-align: right;\">\n",
              "      <th></th>\n",
              "      <th>mpg</th>\n",
              "      <th>cylinders</th>\n",
              "      <th>displacement</th>\n",
              "      <th>horsepower</th>\n",
              "      <th>weight</th>\n",
              "      <th>acceleration</th>\n",
              "      <th>model year</th>\n",
              "      <th>origin</th>\n",
              "      <th>car name</th>\n",
              "    </tr>\n",
              "  </thead>\n",
              "  <tbody>\n",
              "    <tr>\n",
              "      <th>0</th>\n",
              "      <td>18.0</td>\n",
              "      <td>8</td>\n",
              "      <td>307.0</td>\n",
              "      <td>130</td>\n",
              "      <td>3504</td>\n",
              "      <td>12.0</td>\n",
              "      <td>70</td>\n",
              "      <td>1</td>\n",
              "      <td>chevrolet chevelle malibu</td>\n",
              "    </tr>\n",
              "    <tr>\n",
              "      <th>1</th>\n",
              "      <td>15.0</td>\n",
              "      <td>8</td>\n",
              "      <td>350.0</td>\n",
              "      <td>165</td>\n",
              "      <td>3693</td>\n",
              "      <td>11.5</td>\n",
              "      <td>70</td>\n",
              "      <td>1</td>\n",
              "      <td>buick skylark 320</td>\n",
              "    </tr>\n",
              "    <tr>\n",
              "      <th>2</th>\n",
              "      <td>18.0</td>\n",
              "      <td>8</td>\n",
              "      <td>318.0</td>\n",
              "      <td>150</td>\n",
              "      <td>3436</td>\n",
              "      <td>11.0</td>\n",
              "      <td>70</td>\n",
              "      <td>1</td>\n",
              "      <td>plymouth satellite</td>\n",
              "    </tr>\n",
              "    <tr>\n",
              "      <th>3</th>\n",
              "      <td>16.0</td>\n",
              "      <td>8</td>\n",
              "      <td>304.0</td>\n",
              "      <td>150</td>\n",
              "      <td>3433</td>\n",
              "      <td>12.0</td>\n",
              "      <td>70</td>\n",
              "      <td>1</td>\n",
              "      <td>amc rebel sst</td>\n",
              "    </tr>\n",
              "    <tr>\n",
              "      <th>4</th>\n",
              "      <td>17.0</td>\n",
              "      <td>8</td>\n",
              "      <td>302.0</td>\n",
              "      <td>140</td>\n",
              "      <td>3449</td>\n",
              "      <td>10.5</td>\n",
              "      <td>70</td>\n",
              "      <td>1</td>\n",
              "      <td>ford torino</td>\n",
              "    </tr>\n",
              "  </tbody>\n",
              "</table>\n",
              "</div>"
            ],
            "text/plain": [
              "    mpg  cylinders  displacement horsepower  weight  acceleration  model year  \\\n",
              "0  18.0          8         307.0        130    3504          12.0          70   \n",
              "1  15.0          8         350.0        165    3693          11.5          70   \n",
              "2  18.0          8         318.0        150    3436          11.0          70   \n",
              "3  16.0          8         304.0        150    3433          12.0          70   \n",
              "4  17.0          8         302.0        140    3449          10.5          70   \n",
              "\n",
              "   origin                   car name  \n",
              "0       1  chevrolet chevelle malibu  \n",
              "1       1          buick skylark 320  \n",
              "2       1         plymouth satellite  \n",
              "3       1              amc rebel sst  \n",
              "4       1                ford torino  "
            ]
          },
          "execution_count": 4,
          "metadata": {},
          "output_type": "execute_result"
        }
      ],
      "source": [
        "data = pd.read_csv('E:/VSCode/Python/Machine_Learning/Data/auto-mpg.csv')\n",
        "data.head()"
      ]
    },
    {
      "cell_type": "markdown",
      "metadata": {
        "id": "My3hJbjwaJVn"
      },
      "source": [
        "# Câu 1: Tiền xử lý dữ liệu: lựa chọn features, chia tập dữ liệu thành tập train và tập test."
      ]
    },
    {
      "cell_type": "code",
      "execution_count": 5,
      "metadata": {
        "colab": {
          "base_uri": "https://localhost:8080/"
        },
        "id": "a0W98we3rRN8",
        "outputId": "80ffa553-30c2-4cee-9a09-eb478447a683"
      },
      "outputs": [
        {
          "name": "stdout",
          "output_type": "stream",
          "text": [
            "mpg             0\n",
            "cylinders       0\n",
            "displacement    0\n",
            "horsepower      0\n",
            "weight          0\n",
            "acceleration    0\n",
            "model year      0\n",
            "origin          0\n",
            "car name        0\n",
            "dtype: int64\n"
          ]
        }
      ],
      "source": [
        "print(data.isnull().sum())"
      ]
    },
    {
      "cell_type": "code",
      "execution_count": 6,
      "metadata": {
        "colab": {
          "base_uri": "https://localhost:8080/",
          "height": 300
        },
        "id": "n1D_pccnrOx8",
        "outputId": "ee08a473-ed13-431f-c25c-625a8f4e7cbf"
      },
      "outputs": [
        {
          "data": {
            "text/html": [
              "<div>\n",
              "<style scoped>\n",
              "    .dataframe tbody tr th:only-of-type {\n",
              "        vertical-align: middle;\n",
              "    }\n",
              "\n",
              "    .dataframe tbody tr th {\n",
              "        vertical-align: top;\n",
              "    }\n",
              "\n",
              "    .dataframe thead th {\n",
              "        text-align: right;\n",
              "    }\n",
              "</style>\n",
              "<table border=\"1\" class=\"dataframe\">\n",
              "  <thead>\n",
              "    <tr style=\"text-align: right;\">\n",
              "      <th></th>\n",
              "      <th>mpg</th>\n",
              "      <th>cylinders</th>\n",
              "      <th>displacement</th>\n",
              "      <th>weight</th>\n",
              "      <th>acceleration</th>\n",
              "      <th>model year</th>\n",
              "      <th>origin</th>\n",
              "    </tr>\n",
              "  </thead>\n",
              "  <tbody>\n",
              "    <tr>\n",
              "      <th>count</th>\n",
              "      <td>398.000000</td>\n",
              "      <td>398.000000</td>\n",
              "      <td>398.000000</td>\n",
              "      <td>398.000000</td>\n",
              "      <td>398.000000</td>\n",
              "      <td>398.000000</td>\n",
              "      <td>398.000000</td>\n",
              "    </tr>\n",
              "    <tr>\n",
              "      <th>mean</th>\n",
              "      <td>23.514573</td>\n",
              "      <td>5.454774</td>\n",
              "      <td>193.425879</td>\n",
              "      <td>2970.424623</td>\n",
              "      <td>15.568090</td>\n",
              "      <td>76.010050</td>\n",
              "      <td>1.572864</td>\n",
              "    </tr>\n",
              "    <tr>\n",
              "      <th>std</th>\n",
              "      <td>7.815984</td>\n",
              "      <td>1.701004</td>\n",
              "      <td>104.269838</td>\n",
              "      <td>846.841774</td>\n",
              "      <td>2.757689</td>\n",
              "      <td>3.697627</td>\n",
              "      <td>0.802055</td>\n",
              "    </tr>\n",
              "    <tr>\n",
              "      <th>min</th>\n",
              "      <td>9.000000</td>\n",
              "      <td>3.000000</td>\n",
              "      <td>68.000000</td>\n",
              "      <td>1613.000000</td>\n",
              "      <td>8.000000</td>\n",
              "      <td>70.000000</td>\n",
              "      <td>1.000000</td>\n",
              "    </tr>\n",
              "    <tr>\n",
              "      <th>25%</th>\n",
              "      <td>17.500000</td>\n",
              "      <td>4.000000</td>\n",
              "      <td>104.250000</td>\n",
              "      <td>2223.750000</td>\n",
              "      <td>13.825000</td>\n",
              "      <td>73.000000</td>\n",
              "      <td>1.000000</td>\n",
              "    </tr>\n",
              "    <tr>\n",
              "      <th>50%</th>\n",
              "      <td>23.000000</td>\n",
              "      <td>4.000000</td>\n",
              "      <td>148.500000</td>\n",
              "      <td>2803.500000</td>\n",
              "      <td>15.500000</td>\n",
              "      <td>76.000000</td>\n",
              "      <td>1.000000</td>\n",
              "    </tr>\n",
              "    <tr>\n",
              "      <th>75%</th>\n",
              "      <td>29.000000</td>\n",
              "      <td>8.000000</td>\n",
              "      <td>262.000000</td>\n",
              "      <td>3608.000000</td>\n",
              "      <td>17.175000</td>\n",
              "      <td>79.000000</td>\n",
              "      <td>2.000000</td>\n",
              "    </tr>\n",
              "    <tr>\n",
              "      <th>max</th>\n",
              "      <td>46.600000</td>\n",
              "      <td>8.000000</td>\n",
              "      <td>455.000000</td>\n",
              "      <td>5140.000000</td>\n",
              "      <td>24.800000</td>\n",
              "      <td>82.000000</td>\n",
              "      <td>3.000000</td>\n",
              "    </tr>\n",
              "  </tbody>\n",
              "</table>\n",
              "</div>"
            ],
            "text/plain": [
              "              mpg   cylinders  displacement       weight  acceleration  \\\n",
              "count  398.000000  398.000000    398.000000   398.000000    398.000000   \n",
              "mean    23.514573    5.454774    193.425879  2970.424623     15.568090   \n",
              "std      7.815984    1.701004    104.269838   846.841774      2.757689   \n",
              "min      9.000000    3.000000     68.000000  1613.000000      8.000000   \n",
              "25%     17.500000    4.000000    104.250000  2223.750000     13.825000   \n",
              "50%     23.000000    4.000000    148.500000  2803.500000     15.500000   \n",
              "75%     29.000000    8.000000    262.000000  3608.000000     17.175000   \n",
              "max     46.600000    8.000000    455.000000  5140.000000     24.800000   \n",
              "\n",
              "       model year      origin  \n",
              "count  398.000000  398.000000  \n",
              "mean    76.010050    1.572864  \n",
              "std      3.697627    0.802055  \n",
              "min     70.000000    1.000000  \n",
              "25%     73.000000    1.000000  \n",
              "50%     76.000000    1.000000  \n",
              "75%     79.000000    2.000000  \n",
              "max     82.000000    3.000000  "
            ]
          },
          "execution_count": 6,
          "metadata": {},
          "output_type": "execute_result"
        }
      ],
      "source": [
        "data.describe()"
      ]
    },
    {
      "cell_type": "code",
      "execution_count": 7,
      "metadata": {
        "colab": {
          "base_uri": "https://localhost:8080/",
          "height": 366
        },
        "id": "GLw4e6CprHC0",
        "outputId": "3ce3c260-9dc4-479a-8f6b-bbc4e65149f7"
      },
      "outputs": [
        {
          "data": {
            "text/plain": [
              "mpg             float64\n",
              "cylinders         int64\n",
              "displacement    float64\n",
              "horsepower       object\n",
              "weight            int64\n",
              "acceleration    float64\n",
              "model year        int64\n",
              "origin            int64\n",
              "car name         object\n",
              "dtype: object"
            ]
          },
          "execution_count": 7,
          "metadata": {},
          "output_type": "execute_result"
        }
      ],
      "source": [
        "data.dtypes"
      ]
    },
    {
      "cell_type": "code",
      "execution_count": 8,
      "metadata": {
        "colab": {
          "base_uri": "https://localhost:8080/",
          "height": 238
        },
        "id": "wUGfBmYkenjJ",
        "outputId": "23ca5603-cc43-43d0-d7a6-304ff4fec1a6"
      },
      "outputs": [
        {
          "data": {
            "text/html": [
              "<div>\n",
              "<style scoped>\n",
              "    .dataframe tbody tr th:only-of-type {\n",
              "        vertical-align: middle;\n",
              "    }\n",
              "\n",
              "    .dataframe tbody tr th {\n",
              "        vertical-align: top;\n",
              "    }\n",
              "\n",
              "    .dataframe thead th {\n",
              "        text-align: right;\n",
              "    }\n",
              "</style>\n",
              "<table border=\"1\" class=\"dataframe\">\n",
              "  <thead>\n",
              "    <tr style=\"text-align: right;\">\n",
              "      <th></th>\n",
              "      <th>mpg</th>\n",
              "      <th>cylinders</th>\n",
              "      <th>displacement</th>\n",
              "      <th>horsepower</th>\n",
              "      <th>weight</th>\n",
              "      <th>acceleration</th>\n",
              "      <th>model year</th>\n",
              "      <th>origin</th>\n",
              "      <th>car name</th>\n",
              "    </tr>\n",
              "  </thead>\n",
              "  <tbody>\n",
              "    <tr>\n",
              "      <th>32</th>\n",
              "      <td>25.0</td>\n",
              "      <td>4</td>\n",
              "      <td>98.0</td>\n",
              "      <td>?</td>\n",
              "      <td>2046</td>\n",
              "      <td>19.0</td>\n",
              "      <td>71</td>\n",
              "      <td>1</td>\n",
              "      <td>ford pinto</td>\n",
              "    </tr>\n",
              "    <tr>\n",
              "      <th>126</th>\n",
              "      <td>21.0</td>\n",
              "      <td>6</td>\n",
              "      <td>200.0</td>\n",
              "      <td>?</td>\n",
              "      <td>2875</td>\n",
              "      <td>17.0</td>\n",
              "      <td>74</td>\n",
              "      <td>1</td>\n",
              "      <td>ford maverick</td>\n",
              "    </tr>\n",
              "    <tr>\n",
              "      <th>330</th>\n",
              "      <td>40.9</td>\n",
              "      <td>4</td>\n",
              "      <td>85.0</td>\n",
              "      <td>?</td>\n",
              "      <td>1835</td>\n",
              "      <td>17.3</td>\n",
              "      <td>80</td>\n",
              "      <td>2</td>\n",
              "      <td>renault lecar deluxe</td>\n",
              "    </tr>\n",
              "    <tr>\n",
              "      <th>336</th>\n",
              "      <td>23.6</td>\n",
              "      <td>4</td>\n",
              "      <td>140.0</td>\n",
              "      <td>?</td>\n",
              "      <td>2905</td>\n",
              "      <td>14.3</td>\n",
              "      <td>80</td>\n",
              "      <td>1</td>\n",
              "      <td>ford mustang cobra</td>\n",
              "    </tr>\n",
              "    <tr>\n",
              "      <th>354</th>\n",
              "      <td>34.5</td>\n",
              "      <td>4</td>\n",
              "      <td>100.0</td>\n",
              "      <td>?</td>\n",
              "      <td>2320</td>\n",
              "      <td>15.8</td>\n",
              "      <td>81</td>\n",
              "      <td>2</td>\n",
              "      <td>renault 18i</td>\n",
              "    </tr>\n",
              "    <tr>\n",
              "      <th>374</th>\n",
              "      <td>23.0</td>\n",
              "      <td>4</td>\n",
              "      <td>151.0</td>\n",
              "      <td>?</td>\n",
              "      <td>3035</td>\n",
              "      <td>20.5</td>\n",
              "      <td>82</td>\n",
              "      <td>1</td>\n",
              "      <td>amc concord dl</td>\n",
              "    </tr>\n",
              "  </tbody>\n",
              "</table>\n",
              "</div>"
            ],
            "text/plain": [
              "      mpg  cylinders  displacement horsepower  weight  acceleration  \\\n",
              "32   25.0          4          98.0          ?    2046          19.0   \n",
              "126  21.0          6         200.0          ?    2875          17.0   \n",
              "330  40.9          4          85.0          ?    1835          17.3   \n",
              "336  23.6          4         140.0          ?    2905          14.3   \n",
              "354  34.5          4         100.0          ?    2320          15.8   \n",
              "374  23.0          4         151.0          ?    3035          20.5   \n",
              "\n",
              "     model year  origin              car name  \n",
              "32           71       1            ford pinto  \n",
              "126          74       1         ford maverick  \n",
              "330          80       2  renault lecar deluxe  \n",
              "336          80       1    ford mustang cobra  \n",
              "354          81       2           renault 18i  \n",
              "374          82       1        amc concord dl  "
            ]
          },
          "execution_count": 8,
          "metadata": {},
          "output_type": "execute_result"
        }
      ],
      "source": [
        "data[data['horsepower'] == '?']"
      ]
    },
    {
      "cell_type": "code",
      "execution_count": 9,
      "metadata": {
        "id": "Zx5pS2dKMEvQ"
      },
      "outputs": [
        {
          "name": "stderr",
          "output_type": "stream",
          "text": [
            "C:\\Users\\HayXanhMan\\AppData\\Local\\Temp\\ipykernel_17348\\286290913.py:2: FutureWarning: A value is trying to be set on a copy of a DataFrame or Series through chained assignment using an inplace method.\n",
            "The behavior will change in pandas 3.0. This inplace method will never work because the intermediate object on which we are setting values always behaves as a copy.\n",
            "\n",
            "For example, when doing 'df[col].method(value, inplace=True)', try using 'df.method({col: value}, inplace=True)' or df[col] = df[col].method(value) instead, to perform the operation inplace on the original object.\n",
            "\n",
            "\n",
            "  data['horsepower'].fillna(data['horsepower'].mean(), inplace=True)\n"
          ]
        }
      ],
      "source": [
        "data['horsepower'] = pd.to_numeric(data['horsepower'], errors='coerce')\n",
        "data['horsepower'].fillna(data['horsepower'].mean(), inplace=True)"
      ]
    },
    {
      "cell_type": "code",
      "execution_count": 10,
      "metadata": {
        "id": "iDGY5Pl_lqXc"
      },
      "outputs": [],
      "source": [
        "data['horsepower'] = data['horsepower'].astype(int)"
      ]
    },
    {
      "cell_type": "code",
      "execution_count": 11,
      "metadata": {
        "colab": {
          "base_uri": "https://localhost:8080/",
          "height": 366
        },
        "id": "E5_C85uzrb2U",
        "outputId": "49870660-ba5b-4366-a938-571d47be3745"
      },
      "outputs": [
        {
          "data": {
            "text/plain": [
              "mpg             float64\n",
              "cylinders         int64\n",
              "displacement    float64\n",
              "horsepower        int32\n",
              "weight            int64\n",
              "acceleration    float64\n",
              "model year        int64\n",
              "origin            int64\n",
              "car name         object\n",
              "dtype: object"
            ]
          },
          "execution_count": 11,
          "metadata": {},
          "output_type": "execute_result"
        }
      ],
      "source": [
        "data.dtypes"
      ]
    },
    {
      "cell_type": "code",
      "execution_count": 12,
      "metadata": {
        "colab": {
          "base_uri": "https://localhost:8080/",
          "height": 300
        },
        "id": "DeLOnZf6rXzE",
        "outputId": "52fbca7b-d8c9-4787-85e1-0bdd8f2ac9ad"
      },
      "outputs": [
        {
          "data": {
            "text/html": [
              "<div>\n",
              "<style scoped>\n",
              "    .dataframe tbody tr th:only-of-type {\n",
              "        vertical-align: middle;\n",
              "    }\n",
              "\n",
              "    .dataframe tbody tr th {\n",
              "        vertical-align: top;\n",
              "    }\n",
              "\n",
              "    .dataframe thead th {\n",
              "        text-align: right;\n",
              "    }\n",
              "</style>\n",
              "<table border=\"1\" class=\"dataframe\">\n",
              "  <thead>\n",
              "    <tr style=\"text-align: right;\">\n",
              "      <th></th>\n",
              "      <th>mpg</th>\n",
              "      <th>cylinders</th>\n",
              "      <th>displacement</th>\n",
              "      <th>horsepower</th>\n",
              "      <th>weight</th>\n",
              "      <th>acceleration</th>\n",
              "      <th>model year</th>\n",
              "      <th>origin</th>\n",
              "    </tr>\n",
              "  </thead>\n",
              "  <tbody>\n",
              "    <tr>\n",
              "      <th>count</th>\n",
              "      <td>398.000000</td>\n",
              "      <td>398.000000</td>\n",
              "      <td>398.000000</td>\n",
              "      <td>398.000000</td>\n",
              "      <td>398.000000</td>\n",
              "      <td>398.000000</td>\n",
              "      <td>398.000000</td>\n",
              "      <td>398.000000</td>\n",
              "    </tr>\n",
              "    <tr>\n",
              "      <th>mean</th>\n",
              "      <td>23.514573</td>\n",
              "      <td>5.454774</td>\n",
              "      <td>193.425879</td>\n",
              "      <td>104.462312</td>\n",
              "      <td>2970.424623</td>\n",
              "      <td>15.568090</td>\n",
              "      <td>76.010050</td>\n",
              "      <td>1.572864</td>\n",
              "    </tr>\n",
              "    <tr>\n",
              "      <th>std</th>\n",
              "      <td>7.815984</td>\n",
              "      <td>1.701004</td>\n",
              "      <td>104.269838</td>\n",
              "      <td>38.199230</td>\n",
              "      <td>846.841774</td>\n",
              "      <td>2.757689</td>\n",
              "      <td>3.697627</td>\n",
              "      <td>0.802055</td>\n",
              "    </tr>\n",
              "    <tr>\n",
              "      <th>min</th>\n",
              "      <td>9.000000</td>\n",
              "      <td>3.000000</td>\n",
              "      <td>68.000000</td>\n",
              "      <td>46.000000</td>\n",
              "      <td>1613.000000</td>\n",
              "      <td>8.000000</td>\n",
              "      <td>70.000000</td>\n",
              "      <td>1.000000</td>\n",
              "    </tr>\n",
              "    <tr>\n",
              "      <th>25%</th>\n",
              "      <td>17.500000</td>\n",
              "      <td>4.000000</td>\n",
              "      <td>104.250000</td>\n",
              "      <td>76.000000</td>\n",
              "      <td>2223.750000</td>\n",
              "      <td>13.825000</td>\n",
              "      <td>73.000000</td>\n",
              "      <td>1.000000</td>\n",
              "    </tr>\n",
              "    <tr>\n",
              "      <th>50%</th>\n",
              "      <td>23.000000</td>\n",
              "      <td>4.000000</td>\n",
              "      <td>148.500000</td>\n",
              "      <td>95.000000</td>\n",
              "      <td>2803.500000</td>\n",
              "      <td>15.500000</td>\n",
              "      <td>76.000000</td>\n",
              "      <td>1.000000</td>\n",
              "    </tr>\n",
              "    <tr>\n",
              "      <th>75%</th>\n",
              "      <td>29.000000</td>\n",
              "      <td>8.000000</td>\n",
              "      <td>262.000000</td>\n",
              "      <td>125.000000</td>\n",
              "      <td>3608.000000</td>\n",
              "      <td>17.175000</td>\n",
              "      <td>79.000000</td>\n",
              "      <td>2.000000</td>\n",
              "    </tr>\n",
              "    <tr>\n",
              "      <th>max</th>\n",
              "      <td>46.600000</td>\n",
              "      <td>8.000000</td>\n",
              "      <td>455.000000</td>\n",
              "      <td>230.000000</td>\n",
              "      <td>5140.000000</td>\n",
              "      <td>24.800000</td>\n",
              "      <td>82.000000</td>\n",
              "      <td>3.000000</td>\n",
              "    </tr>\n",
              "  </tbody>\n",
              "</table>\n",
              "</div>"
            ],
            "text/plain": [
              "              mpg   cylinders  displacement  horsepower       weight  \\\n",
              "count  398.000000  398.000000    398.000000  398.000000   398.000000   \n",
              "mean    23.514573    5.454774    193.425879  104.462312  2970.424623   \n",
              "std      7.815984    1.701004    104.269838   38.199230   846.841774   \n",
              "min      9.000000    3.000000     68.000000   46.000000  1613.000000   \n",
              "25%     17.500000    4.000000    104.250000   76.000000  2223.750000   \n",
              "50%     23.000000    4.000000    148.500000   95.000000  2803.500000   \n",
              "75%     29.000000    8.000000    262.000000  125.000000  3608.000000   \n",
              "max     46.600000    8.000000    455.000000  230.000000  5140.000000   \n",
              "\n",
              "       acceleration  model year      origin  \n",
              "count    398.000000  398.000000  398.000000  \n",
              "mean      15.568090   76.010050    1.572864  \n",
              "std        2.757689    3.697627    0.802055  \n",
              "min        8.000000   70.000000    1.000000  \n",
              "25%       13.825000   73.000000    1.000000  \n",
              "50%       15.500000   76.000000    1.000000  \n",
              "75%       17.175000   79.000000    2.000000  \n",
              "max       24.800000   82.000000    3.000000  "
            ]
          },
          "execution_count": 12,
          "metadata": {},
          "output_type": "execute_result"
        }
      ],
      "source": [
        "data.describe()"
      ]
    },
    {
      "cell_type": "code",
      "execution_count": 13,
      "metadata": {
        "colab": {
          "base_uri": "https://localhost:8080/"
        },
        "id": "249oH-LcZYc-",
        "outputId": "ec098a7f-3f86-4e5e-d024-750fa06579dc"
      },
      "outputs": [
        {
          "name": "stdout",
          "output_type": "stream",
          "text": [
            "origin\n",
            "1    249\n",
            "3     79\n",
            "2     70\n",
            "Name: count, dtype: int64\n"
          ]
        }
      ],
      "source": [
        "print(data['origin'].value_counts())"
      ]
    },
    {
      "cell_type": "code",
      "execution_count": 14,
      "metadata": {
        "id": "WRDloG67ZrR6"
      },
      "outputs": [],
      "source": [
        "X = data.drop(['mpg', 'car name'], axis=1).values\n",
        "y = data.iloc[:, :1].values"
      ]
    },
    {
      "cell_type": "code",
      "execution_count": 15,
      "metadata": {
        "colab": {
          "base_uri": "https://localhost:8080/"
        },
        "id": "7AIAHCdMZ0l0",
        "outputId": "bee79384-158b-4848-b391-25b1a1600d9e"
      },
      "outputs": [
        {
          "name": "stdout",
          "output_type": "stream",
          "text": [
            "(318, 7) (80, 7)\n",
            "(318, 1) (80, 1)\n"
          ]
        }
      ],
      "source": [
        "X_train, X_test, y_train, y_test = train_test_split(X, y, test_size=0.2, random_state=42)\n",
        "print(X_train.shape, X_test.shape)\n",
        "print(y_train.shape, y_test.shape)"
      ]
    },
    {
      "cell_type": "code",
      "execution_count": 16,
      "metadata": {
        "colab": {
          "base_uri": "https://localhost:8080/"
        },
        "id": "bJ4O0efPk7Af",
        "outputId": "05d537e4-e447-4ded-d6d0-3f352e9fece2"
      },
      "outputs": [
        {
          "name": "stdout",
          "output_type": "stream",
          "text": [
            "(1, 7) (1, 7)\n",
            "[[8.00e+00 4.55e+02 2.25e+02 5.14e+03 2.48e+01 8.20e+01 3.00e+00]]\n",
            "[[3.000e+00 6.800e+01 4.600e+01 1.613e+03 8.000e+00 7.000e+01 1.000e+00]]\n"
          ]
        }
      ],
      "source": [
        "X_max = X_train.max(axis=0, keepdims=True)\n",
        "X_min = X_train.min(axis=0, keepdims=True)\n",
        "print(X_max.shape, X_min.shape)\n",
        "print(X_max)\n",
        "print(X_min)"
      ]
    },
    {
      "cell_type": "code",
      "execution_count": 17,
      "metadata": {
        "colab": {
          "base_uri": "https://localhost:8080/"
        },
        "id": "qdOUMqE6l3U_",
        "outputId": "5160a67c-c095-4e0a-f881-a847082c7a6a"
      },
      "outputs": [
        {
          "name": "stdout",
          "output_type": "stream",
          "text": [
            "0.0 0.8505494505494505\n",
            "0.0 0.8177777777777778\n"
          ]
        }
      ],
      "source": [
        "X_train_scaled = (X_train - X_min) / X_max\n",
        "X_test_scaled = (X_test - X_min) / X_max\n",
        "\n",
        "print(X_train_scaled.min(), X_train_scaled.max())\n",
        "print(X_test_scaled.min(), X_test_scaled.max())"
      ]
    },
    {
      "cell_type": "code",
      "execution_count": 18,
      "metadata": {
        "colab": {
          "base_uri": "https://localhost:8080/"
        },
        "id": "db4FHPNol9QW",
        "outputId": "9c1455c0-d2dd-477c-e732-7b56653e4c6f"
      },
      "outputs": [
        {
          "name": "stdout",
          "output_type": "stream",
          "text": [
            "2.9037066357408845 -1.8449105240679904\n",
            "2.5753448108604835 -1.7186175144986053\n"
          ]
        }
      ],
      "source": [
        "y_mean = y_train.mean(axis=0, keepdims=True)\n",
        "y_std = y_train.std(axis=0, keepdims=True)\n",
        "\n",
        "y_train_scaled = (y_train - y_mean) / y_std\n",
        "y_test_scaled = (y_test - y_mean) / y_std\n",
        "\n",
        "print(y_train_scaled.max(), y_train_scaled.min())\n",
        "print(y_test_scaled.max(), y_test_scaled.min())"
      ]
    },
    {
      "cell_type": "markdown",
      "metadata": {
        "id": "t3snm0raaOES"
      },
      "source": [
        "# Câu 2: Sử dụng thuật toán SGD để tìm các trọng số. Đánh giá mô hình RMSE, R2-score, MAE cho tập train và tập test."
      ]
    },
    {
      "cell_type": "code",
      "execution_count": 19,
      "metadata": {
        "id": "GkpbnctEfx71"
      },
      "outputs": [],
      "source": [
        "class SGDRegressor:\n",
        "    def __init__(self, learning_rate=0.001, epochs=1000, batch_size=32, tol=1e-3, detail=True):\n",
        "        self.learning_rate = learning_rate\n",
        "        self.batch_size = batch_size\n",
        "        self.epochs = epochs\n",
        "        self.detail = detail\n",
        "        self.tolerance = tol\n",
        "        self.weights = None\n",
        "        self.losses = []\n",
        "\n",
        "    def predict(self, X):\n",
        "        y_pred = np.dot(X, self.weights.T)\n",
        "        return y_pred\n",
        "\n",
        "    def mean_squared_error(self, y_true, y_pred):\n",
        "        return np.mean((y_true - y_pred) ** 2)\n",
        "\n",
        "    def grad(self, X_batch, y_batch):\n",
        "        y_pred = self.predict(X_batch)\n",
        "        delta = y_pred - y_batch\n",
        "        dw = np.dot(X_batch.T, delta) / X_batch.shape[0]\n",
        "        return dw.T\n",
        "\n",
        "    def fit(self, X, y):\n",
        "        X_with_bias = np.c_[np.ones(X.shape[0]), X]\n",
        "        self.weights = np.zeros((1, X_with_bias.shape[1]))\n",
        "\n",
        "        for epoch in range(self.epochs):\n",
        "            indices = np.random.permutation(X_with_bias.shape[0])\n",
        "            X_shuffled = X_with_bias[indices]\n",
        "            y_shuffled = y[indices]\n",
        "\n",
        "            for i in range(0, X_with_bias.shape[0], self.batch_size):\n",
        "                X_batch = X_shuffled[i:i+self.batch_size]\n",
        "                y_batch = y_shuffled[i:i+self.batch_size]\n",
        "\n",
        "                dw = self.grad(X_batch, y_batch)\n",
        "                self.weights -= self.learning_rate * dw\n",
        "\n",
        "            y_pred = self.predict(X_with_bias)\n",
        "            self.losses.append(self.mean_squared_error(y, y_pred))\n",
        "            if epoch % 100 == 0 and self.detail:\n",
        "                loss = self.mean_squared_error(y, y_pred)\n",
        "                print(f\"Epoch {epoch}: Loss {loss}\")\n",
        "\n",
        "            if np.linalg.norm(dw) < self.tolerance:\n",
        "                print(\"Convergence reached.\")\n",
        "                break\n",
        "\n",
        "def rmse(y_true, y_pred):\n",
        "  return np.sqrt(np.mean((y_true - y_pred)**2))\n",
        "\n",
        "def r2_score_custom(y_true, y_pred):\n",
        "  ss_res = np.sum((y_true - y_pred)**2)\n",
        "  ss_tot = np.sum((y_true - np.mean(y_true))**2)\n",
        "  return 1 - (ss_res / ss_tot)\n",
        "\n",
        "def mae(y_true, y_pred):\n",
        "  return np.mean(np.abs(y_true - y_pred))\n"
      ]
    },
    {
      "cell_type": "code",
      "execution_count": 20,
      "metadata": {
        "colab": {
          "base_uri": "https://localhost:8080/"
        },
        "id": "Cts0f4kBB8Dt",
        "outputId": "8d2d7509-11c6-4adf-a42d-f215e520ac08"
      },
      "outputs": [
        {
          "name": "stdout",
          "output_type": "stream",
          "text": [
            "Epoch 0: Loss 0.9768096898290526\n",
            "Epoch 100: Loss 0.3521592078620969\n",
            "Epoch 200: Loss 0.31797830259719695\n",
            "Epoch 300: Loss 0.30917340166365964\n",
            "Epoch 400: Loss 0.30290355090626114\n",
            "Epoch 500: Loss 0.29763542767397466\n",
            "Epoch 600: Loss 0.2929659498480891\n",
            "Epoch 700: Loss 0.2887079419891962\n",
            "Epoch 800: Loss 0.28476111207495536\n",
            "Epoch 900: Loss 0.2810676250718496\n",
            "\n",
            "Training set:\n",
            "RMSE: 0.5269\n",
            "R2-score: 0.7224\n",
            "MAE: 0.3883\n",
            "\n",
            "Test set:\n",
            "RMSE: 0.4483\n",
            "R2-score: 0.7656\n",
            "MAE: 0.3531\n"
          ]
        }
      ],
      "source": [
        "# Khởi tạo model\n",
        "sgd_regressor = SGDRegressor(0.01, 1000)\n",
        "\n",
        "# Train model\n",
        "sgd_regressor.fit(X_train_scaled, y_train_scaled)\n",
        "\n",
        "# Dự đoán\n",
        "y_train_pred_scaled = sgd_regressor.predict(np.c_[np.ones(X_train_scaled.shape[0]), X_train_scaled])\n",
        "y_test_pred_scaled = sgd_regressor.predict(np.c_[np.ones(X_test_scaled.shape[0]), X_test_scaled])\n",
        "\n",
        "# Đánh giá tập train\n",
        "rmse_train = rmse(y_train_scaled, y_train_pred_scaled)\n",
        "r2_train = r2_score_custom(y_train_scaled, y_train_pred_scaled)\n",
        "mae_train = mae(y_train_scaled, y_train_pred_scaled)\n",
        "\n",
        "# Đánh giá tập test\n",
        "rmse_test = rmse(y_test_scaled, y_test_pred_scaled)\n",
        "r2_test = r2_score_custom(y_test_scaled, y_test_pred_scaled)\n",
        "mae_test = mae(y_test_scaled, y_test_pred_scaled)\n",
        "\n",
        "print(\"\\nTraining set:\")\n",
        "print(f\"RMSE: {rmse_train:.4f}\")\n",
        "print(f\"R2-score: {r2_train:.4f}\")\n",
        "print(f\"MAE: {mae_train:.4f}\")\n",
        "\n",
        "print(\"\\nTest set:\")\n",
        "print(f\"RMSE: {rmse_test:.4f}\")\n",
        "print(f\"R2-score: {r2_test:.4f}\")\n",
        "print(f\"MAE: {mae_test:.4f}\")"
      ]
    },
    {
      "cell_type": "code",
      "execution_count": 21,
      "metadata": {
        "colab": {
          "base_uri": "https://localhost:8080/",
          "height": 484
        },
        "id": "kq141TeWgqUJ",
        "outputId": "26f4a7ae-bb0f-4fc4-bcc9-8d0adb9e0f6c"
      },
      "outputs": [
        {
          "name": "stdout",
          "output_type": "stream",
          "text": [
            "Weights: [[ 0.83974965 -0.665091   -0.87453996 -0.98811781 -1.44651464  0.12082167\n",
            "   1.24926908  0.52100214]]\n"
          ]
        },
        {
          "data": {
            "image/png": "[encoded data removed]",
            "text/plain": [
              "<Figure size 640x480 with 1 Axes>"
            ]
          },
          "metadata": {},
          "output_type": "display_data"
        }
      ],
      "source": [
        "print(f\"Weights: {sgd_regressor.weights}\")\n",
        "plt.plot(sgd_regressor.losses)\n",
        "plt.xlabel('Epoch')\n",
        "plt.ylabel('Loss')\n",
        "plt.show()"
      ]
    },
    {
      "cell_type": "markdown",
      "metadata": {
        "id": "AgoQgMwpqMWH"
      },
      "source": [
        "# Câu 3: Sử dụng thuật toán SGD với Norm2 regularization cho hệ số lambda = 0.1"
      ]
    },
    {
      "cell_type": "code",
      "execution_count": 22,
      "metadata": {
        "collapsed": true,
        "id": "ZS1XFvpGaapz"
      },
      "outputs": [],
      "source": [
        "class SGDRegressorWithNorm2:\n",
        "    def __init__(self, learning_rate=0.001, epochs=1000, batch_size=32, tol=1e-3, lambda_reg=0.1, detail=True):\n",
        "        self.learning_rate = learning_rate\n",
        "        self.batch_size = batch_size\n",
        "        self.epochs = epochs\n",
        "        self.tolerance = tol\n",
        "        self.detail = detail\n",
        "        self.lambda_reg = lambda_reg\n",
        "        self.weights = None\n",
        "        self.losses = []\n",
        "\n",
        "    def predict(self, X):\n",
        "        y_pred = np.dot(X, self.weights.T)\n",
        "        return y_pred\n",
        "\n",
        "    def mean_squared_error(self, y_true, y_pred):\n",
        "        return np.mean((y_true - y_pred) ** 2)\n",
        "\n",
        "    def grad(self, X_batch, y_batch):\n",
        "        y_pred = self.predict(X_batch)\n",
        "        delta = y_pred - y_batch\n",
        "        dw = np.dot(X_batch.T, delta) / X_batch.shape[0] + self.lambda_reg * self.weights.T\n",
        "        return dw.T\n",
        "\n",
        "    def fit(self, X, y):\n",
        "        X_with_bias = np.c_[np.ones(X.shape[0]), X]\n",
        "        self.weights = np.zeros((1, X_with_bias.shape[1]))\n",
        "\n",
        "        for epoch in range(self.epochs):\n",
        "            indices = np.random.permutation(X_with_bias.shape[0])\n",
        "            X_shuffled = X_with_bias[indices]\n",
        "            y_shuffled = y[indices]\n",
        "\n",
        "            for i in range(0, X_with_bias.shape[0], self.batch_size):\n",
        "                X_batch = X_shuffled[i:i+self.batch_size]\n",
        "                y_batch = y_shuffled[i:i+self.batch_size]\n",
        "\n",
        "                dw = self.grad(X_batch, y_batch)\n",
        "                self.weights -= self.learning_rate * dw\n",
        "\n",
        "            y_pred = self.predict(X_with_bias)\n",
        "            self.losses.append(self.mean_squared_error(y, y_pred))\n",
        "            if epoch % 100 == 0 and self.detail:\n",
        "                loss = self.mean_squared_error(y, y_pred)\n",
        "                print(f\"Epoch {epoch}: Loss {loss}\")\n",
        "\n",
        "            if np.linalg.norm(dw) < self.tolerance:\n",
        "                print(\"Convergence reached.\")\n",
        "                break"
      ]
    },
    {
      "cell_type": "code",
      "execution_count": 23,
      "metadata": {
        "colab": {
          "base_uri": "https://localhost:8080/"
        },
        "id": "N1dflRu4atwT",
        "outputId": "9a308fc5-4cf3-4c67-9b2a-1ca817f099f4"
      },
      "outputs": [
        {
          "name": "stdout",
          "output_type": "stream",
          "text": [
            "Epoch 0: Loss 0.8157402527572813\n",
            "Epoch 100: Loss 0.4222418755991851\n",
            "\n",
            "Training set with Norm2:\n",
            "RMSE: 0.6504\n",
            "R2-score: 0.5770\n",
            "MAE: 0.5082\n",
            "\n",
            "Test set with Norm2:\n",
            "RMSE: 0.5498\n",
            "R2-score: 0.6476\n",
            "MAE: 0.4150\n"
          ]
        }
      ],
      "source": [
        "# Khởi tạo model\n",
        "sgd_regressor_norm2 = SGDRegressorWithNorm2(learning_rate=0.1, epochs=200, lambda_reg=0.1)\n",
        "\n",
        "# Train model\n",
        "sgd_regressor_norm2.fit(X_train_scaled, y_train_scaled)\n",
        "\n",
        "# Dự đoán\n",
        "y_train_pred_scaled_norm2 = sgd_regressor_norm2.predict(np.c_[np.ones(X_train_scaled.shape[0]), X_train_scaled])\n",
        "y_test_pred_scaled_norm2 = sgd_regressor_norm2.predict(np.c_[np.ones(X_test_scaled.shape[0]), X_test_scaled])\n",
        "\n",
        "# Đánh giá tập train\n",
        "rmse_train_norm2 = rmse(y_train_scaled, y_train_pred_scaled_norm2)\n",
        "r2_train_norm2 = r2_score_custom(y_train_scaled, y_train_pred_scaled_norm2)\n",
        "mae_train_norm2 = mae(y_train_scaled, y_train_pred_scaled_norm2)\n",
        "\n",
        "# Đánh giá tập test\n",
        "rmse_test_norm2 = rmse(y_test_scaled, y_test_pred_scaled_norm2)\n",
        "r2_test_norm2 = r2_score_custom(y_test_scaled, y_test_pred_scaled_norm2)\n",
        "mae_test_norm2 = mae(y_test_scaled, y_test_pred_scaled_norm2)\n",
        "\n",
        "print(\"\\nTraining set with Norm2:\")\n",
        "print(f\"RMSE: {rmse_train_norm2:.4f}\")\n",
        "print(f\"R2-score: {r2_train_norm2:.4f}\")\n",
        "print(f\"MAE: {mae_train_norm2:.4f}\")\n",
        "\n",
        "print(\"\\nTest set with Norm2:\")\n",
        "print(f\"RMSE: {rmse_test_norm2:.4f}\")\n",
        "print(f\"R2-score: {r2_test_norm2:.4f}\")\n",
        "print(f\"MAE: {mae_test_norm2:.4f}\")"
      ]
    },
    {
      "cell_type": "code",
      "execution_count": 24,
      "metadata": {
        "colab": {
          "base_uri": "https://localhost:8080/",
          "height": 484
        },
        "id": "QJxIkI1CcRpq",
        "outputId": "8ec741c1-7152-4e52-beee-305873369abd"
      },
      "outputs": [
        {
          "name": "stdout",
          "output_type": "stream",
          "text": [
            "Weights: [[ 0.33990697 -0.52107854 -0.60888207 -0.44060809 -0.49579064  0.24625735\n",
            "   0.19679586  0.55138146]]\n"
          ]
        },
        {
          "data": {
            "image/png": "[encoded data removed]",
            "text/plain": [
              "<Figure size 640x480 with 1 Axes>"
            ]
          },
          "metadata": {},
          "output_type": "display_data"
        }
      ],
      "source": [
        "print(f\"Weights: {sgd_regressor_norm2.weights}\")\n",
        "\n",
        "plt.plot(sgd_regressor_norm2.losses)\n",
        "plt.xlabel('Epoch')\n",
        "plt.ylabel('Loss')\n",
        "plt.show()"
      ]
    },
    {
      "cell_type": "markdown",
      "metadata": {
        "id": "47xI3aqkGfVh"
      },
      "source": [
        "# Câu 4: Vẽ đồ thị sự phụ thuộc của train error và test error vào lambda."
      ]
    },
    {
      "cell_type": "code",
      "execution_count": 25,
      "metadata": {
        "colab": {
          "base_uri": "https://localhost:8080/",
          "height": 580
        },
        "id": "qiGwEIcDGe_T",
        "outputId": "c747ffdf-ca76-47a4-a913-49d1f66e524e"
      },
      "outputs": [
        {
          "name": "stderr",
          "output_type": "stream",
          "text": [
            "C:\\Users\\HayXanhMan\\AppData\\Local\\Temp\\ipykernel_17348\\1479238319.py:17: RuntimeWarning: overflow encountered in square\n",
            "  return np.mean((y_true - y_pred) ** 2)\n",
            "C:\\Users\\HayXanhMan\\AppData\\Local\\Temp\\ipykernel_17348\\1479238319.py:22: RuntimeWarning: overflow encountered in multiply\n",
            "  dw = np.dot(X_batch.T, delta) / X_batch.shape[0] + self.lambda_reg * self.weights.T\n",
            "C:\\Users\\HayXanhMan\\AppData\\Local\\Temp\\ipykernel_17348\\1479238319.py:39: RuntimeWarning: invalid value encountered in subtract\n",
            "  self.weights -= self.learning_rate * dw\n"
          ]
        },
        {
          "data": {
            "image/png": "[encoded data removed]",
            "text/plain": [
              "<Figure size 640x480 with 1 Axes>"
            ]
          },
          "metadata": {},
          "output_type": "display_data"
        }
      ],
      "source": [
        "lambdas = [0.001, 0.005, 0.01, 0.05, 0.1, 0.5, 1, 5, 10, 50, 100]\n",
        "train_errors = []\n",
        "test_errors = []\n",
        "\n",
        "for lmbda in lambdas:\n",
        "    sgd_regressor_norm2 = SGDRegressorWithNorm2(0.1, 500, lambda_reg=lmbda, detail=False)\n",
        "    sgd_regressor_norm2.fit(X_train_scaled, y_train_scaled)\n",
        "    y_train_pred_scaled_norm2 = sgd_regressor_norm2.predict(np.c_[np.ones(X_train_scaled.shape[0]), X_train_scaled])\n",
        "    y_test_pred_scaled_norm2 = sgd_regressor_norm2.predict(np.c_[np.ones(X_test_scaled.shape[0]), X_test_scaled])\n",
        "\n",
        "    rmse_train_norm2 = rmse(y_train_scaled, y_train_pred_scaled_norm2)\n",
        "    rmse_test_norm2 = rmse(y_test_scaled, y_test_pred_scaled_norm2)\n",
        "\n",
        "    train_errors.append(rmse_train_norm2)\n",
        "    test_errors.append(rmse_test_norm2)\n",
        "\n",
        "plt.plot(lambdas, train_errors, label='Train Error')\n",
        "plt.plot(lambdas, test_errors, label='Test Error')\n",
        "plt.xlabel('Lambda')\n",
        "plt.ylabel('RMSE')\n",
        "plt.title('Train and Test Error vs Lambda')\n",
        "plt.legend()\n",
        "plt.xscale('log')\n",
        "plt.show()\n",
        "\n"
      ]
    },
    {
      "cell_type": "markdown",
      "metadata": {
        "id": "ROGlrc5ivx7L"
      },
      "source": [
        "## Nhận xét:\n",
        "1. Train Error:\n",
        "  - Khi &lambda; thấp, kết quả train error cho lại khá tốt và ổn định.\n",
        "  - Khi &lambda; tăng, train error tăng đần. Có thể &lambda; lớn hơn thì dẫn tới hiện tượng mô hình bị underfitting. Biểu hiện bằng sự tăng mạnh của train error.\n",
        "2. Test Error:\n",
        "  - Tương tự với train error, test error duy trì ổn định và thấp ở các giá trị &lambda; thấp.\n",
        "  - Khi tăng &lambda;, test error cũng bắt đầu tăng lên, cho thấy mô hình bắt đầu bị underfitting.\n",
        "3. Hiệu suất tốt nhất:\n",
        "  - Điểm lý tưởng cho cả hai train error và test error xuất hiện ở giá trị &lambda; thấp trong khoảng 10<sup>-3</sup> đến 10<sup>-2</sup>. Cho thấy lượng nhỏ &lambda; giúp ngăn chăn overfitting và giúp mô hình học tập từ dữ liệu hiện quả.\n",
        "4. Kết luận\n",
        "  - &lambda; nhỏ giúp cải thiện hiệu suất của mô hình, nhưng nếu &lambda; qua lớn có thê dẫn tới mô hình bị underfitting."
      ]
    },
    {
      "cell_type": "markdown",
      "metadata": {
        "id": "XvzIEl8nICS5"
      },
      "source": [
        "# Câu 5: Vẽ đồ thị sự phụ thuộc của các trọng số vào lambda."
      ]
    },
    {
      "cell_type": "code",
      "execution_count": 26,
      "metadata": {
        "colab": {
          "base_uri": "https://localhost:8080/",
          "height": 476
        },
        "id": "rENN2YxyHKmZ",
        "outputId": "a97f26aa-e850-4093-a409-446140c6814c"
      },
      "outputs": [
        {
          "data": {
            "image/png": "[encoded data removed]",
            "text/plain": [
              "<Figure size 640x480 with 1 Axes>"
            ]
          },
          "metadata": {},
          "output_type": "display_data"
        }
      ],
      "source": [
        "lambdas = [0.001, 0.005, 0.01, 0.05, 0.1, 0.5, 1, 5, 10, 50]\n",
        "labels = ['bias', 'cylinders', 'displacement', 'horsepower', 'weight', 'acceleration', 'model year', 'origin']\n",
        "weights_list = []\n",
        "\n",
        "for lmbda in lambdas:\n",
        "    sgd_regressor_norm2 = SGDRegressorWithNorm2(0.02, 500, lambda_reg=lmbda, detail=False)\n",
        "    sgd_regressor_norm2.fit(X_train_scaled, y_train_scaled)\n",
        "    weights_list.append(sgd_regressor_norm2.weights)\n",
        "\n",
        "for i in range(weights_list[0].shape[1]):\n",
        "    weights_for_feature = [w[0, i] for w in weights_list]\n",
        "    plt.plot(lambdas, weights_for_feature, label=labels[i])\n",
        "\n",
        "plt.axhline(y=0, color='gray', linestyle='--')\n",
        "plt.xlabel('Lambda')\n",
        "plt.ylabel('Weight Value')\n",
        "plt.title('Weight Values vs Lambda')\n",
        "plt.legend()\n",
        "plt.xscale('log')\n",
        "plt.show()\n"
      ]
    },
    {
      "cell_type": "markdown",
      "metadata": {
        "id": "4X1HZkkx0euq"
      },
      "source": [
        "## Nhận xét:\n",
        "1. Ảnh hưởng của &lambda; lên trọng số:\n",
        "  - Khi &lambda; nhỏ, các trọng số của mô hình có các giá trị khác biệt với nhau và các đặc trung này vẫn đóng góp nhiều và mô hình,\n",
        "  - Khi &lambda; quá lớn thì giá trị của các giá trị trọng số dần đi về 0. Điều này cho thấy &lambda; tăng thì trọng số dần không đóng gón được nhiều cho mô hình nữa. Dẫn đến mô hình dần trở nên đơn giản hơn.\n",
        "2. Sự thay đổi các trọng số:\n",
        "  - Biến origin và weight có hệ số lớn nhất khi &lambda; nhỏ nhưng giảm về 0 nhanh khi Lambda tăng.\n",
        "  - Biến origin và acceleration có sự tăng dần khi &lambda tăng dần đến 10<sup>-1</sup> và giảm dần về 0 khi &lambda; tăng lên.\n",
        "  - Các biến khác cũng đều có xu hướng giảm dần về 0 khi &lambda; tăng lên.\n",
        "3. Độ phức tạp của mô hình.\n",
        "  - Với &lambda; nhỏ, mô hình có những trọng số lớn, dẫn tới các đặc trưng sẽ ảnh hưởng mạnh mẽ tới việc dự đoán. Điều này dẫn tới một mô hình phức tạp hơn.\n",
        "  - Với &lambda; lớn, các trọng số tiến dần về 0, kiến cho các trọng số giảm dần ảnh hưởng tới kết quả dự đoán. Dẫn tới mô hình trở nên đơn giản hơn.\n",
        "4. Kết luận\n",
        "  - Khi tăng &lambda; dẫn đến các trọng số giảm, kết quả dự đoán dần ít ảnh hưởng tới các đặc trưng đầu vào. Sẽ làm cho mo hình tránh tình trạng Overfitting nhưng có thể gây ra Underfitting nếu &lambda; quá lớn.\n",
        "  - Khi &lambda; nhỏ, mô hình cho phép các trọng số đóng góp lớn vào dự đoán. Mô hình trở nên phức tạp và có khả năng bị Overfitting.\n",
        "  - Khi &lambda; lớn, các trọng số đóng góp vào dự đoán không được quá nhiều. Mô hình trở nên quá đơn giản và nguy cơ cao bị Underfitting."
      ]
    }
  ],
  "metadata": {
    "colab": {
      "provenance": []
    },
    "kernelspec": {
      "display_name": "Python 3",
      "name": "python3"
    },
    "language_info": {
      "codemirror_mode": {
        "name": "ipython",
        "version": 3
      },
      "file_extension": ".py",
      "mimetype": "text/x-python",
      "name": "python",
      "nbconvert_exporter": "python",
      "pygments_lexer": "ipython3",
      "version": "3.12.5"
    }
  },
  "nbformat": 4,
  "nbformat_minor": 0
}
