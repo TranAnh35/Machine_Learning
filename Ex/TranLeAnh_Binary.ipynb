{
 "cells": [
  {
   "cell_type": "markdown",
   "metadata": {},
   "source": [
    "# Activity 1"
   ]
  },
  {
   "cell_type": "code",
   "execution_count": 1,
   "metadata": {},
   "outputs": [],
   "source": [
    "import numpy as np\n",
    "import pandas as pd\n",
    "import matplotlib.pyplot as plt\n",
    "from sklearn.model_selection import train_test_split\n",
    "from sklearn.metrics import accuracy_score, recall_score, precision_score"
   ]
  },
  {
   "cell_type": "markdown",
   "metadata": {},
   "source": [
    "# Activity 2"
   ]
  },
  {
   "cell_type": "code",
   "execution_count": 3,
   "metadata": {},
   "outputs": [
    {
     "data": {
      "text/html": [
       "<div>\n",
       "<style scoped>\n",
       "    .dataframe tbody tr th:only-of-type {\n",
       "        vertical-align: middle;\n",
       "    }\n",
       "\n",
       "    .dataframe tbody tr th {\n",
       "        vertical-align: top;\n",
       "    }\n",
       "\n",
       "    .dataframe thead th {\n",
       "        text-align: right;\n",
       "    }\n",
       "</style>\n",
       "<table border=\"1\" class=\"dataframe\">\n",
       "  <thead>\n",
       "    <tr style=\"text-align: right;\">\n",
       "      <th></th>\n",
       "      <th>User ID</th>\n",
       "      <th>Gender</th>\n",
       "      <th>Age</th>\n",
       "      <th>EstimatedSalary</th>\n",
       "      <th>Purchased</th>\n",
       "    </tr>\n",
       "  </thead>\n",
       "  <tbody>\n",
       "    <tr>\n",
       "      <th>0</th>\n",
       "      <td>15624510</td>\n",
       "      <td>Male</td>\n",
       "      <td>19</td>\n",
       "      <td>19000</td>\n",
       "      <td>0</td>\n",
       "    </tr>\n",
       "    <tr>\n",
       "      <th>1</th>\n",
       "      <td>15810944</td>\n",
       "      <td>Male</td>\n",
       "      <td>35</td>\n",
       "      <td>20000</td>\n",
       "      <td>0</td>\n",
       "    </tr>\n",
       "    <tr>\n",
       "      <th>2</th>\n",
       "      <td>15668575</td>\n",
       "      <td>Female</td>\n",
       "      <td>26</td>\n",
       "      <td>43000</td>\n",
       "      <td>0</td>\n",
       "    </tr>\n",
       "    <tr>\n",
       "      <th>3</th>\n",
       "      <td>15603246</td>\n",
       "      <td>Female</td>\n",
       "      <td>27</td>\n",
       "      <td>57000</td>\n",
       "      <td>0</td>\n",
       "    </tr>\n",
       "    <tr>\n",
       "      <th>4</th>\n",
       "      <td>15804002</td>\n",
       "      <td>Male</td>\n",
       "      <td>19</td>\n",
       "      <td>76000</td>\n",
       "      <td>0</td>\n",
       "    </tr>\n",
       "    <tr>\n",
       "      <th>5</th>\n",
       "      <td>15728773</td>\n",
       "      <td>Male</td>\n",
       "      <td>27</td>\n",
       "      <td>58000</td>\n",
       "      <td>0</td>\n",
       "    </tr>\n",
       "    <tr>\n",
       "      <th>6</th>\n",
       "      <td>15598044</td>\n",
       "      <td>Female</td>\n",
       "      <td>27</td>\n",
       "      <td>84000</td>\n",
       "      <td>0</td>\n",
       "    </tr>\n",
       "    <tr>\n",
       "      <th>7</th>\n",
       "      <td>15694829</td>\n",
       "      <td>Female</td>\n",
       "      <td>32</td>\n",
       "      <td>150000</td>\n",
       "      <td>1</td>\n",
       "    </tr>\n",
       "    <tr>\n",
       "      <th>8</th>\n",
       "      <td>15600575</td>\n",
       "      <td>Male</td>\n",
       "      <td>25</td>\n",
       "      <td>33000</td>\n",
       "      <td>0</td>\n",
       "    </tr>\n",
       "    <tr>\n",
       "      <th>9</th>\n",
       "      <td>15727311</td>\n",
       "      <td>Female</td>\n",
       "      <td>35</td>\n",
       "      <td>65000</td>\n",
       "      <td>0</td>\n",
       "    </tr>\n",
       "  </tbody>\n",
       "</table>\n",
       "</div>"
      ],
      "text/plain": [
       "    User ID  Gender  Age  EstimatedSalary  Purchased\n",
       "0  15624510    Male   19            19000          0\n",
       "1  15810944    Male   35            20000          0\n",
       "2  15668575  Female   26            43000          0\n",
       "3  15603246  Female   27            57000          0\n",
       "4  15804002    Male   19            76000          0\n",
       "5  15728773    Male   27            58000          0\n",
       "6  15598044  Female   27            84000          0\n",
       "7  15694829  Female   32           150000          1\n",
       "8  15600575    Male   25            33000          0\n",
       "9  15727311  Female   35            65000          0"
      ]
     },
     "execution_count": 3,
     "metadata": {},
     "output_type": "execute_result"
    }
   ],
   "source": [
    "df = pd.read_csv('E:/VSCode/Python/Machine_Learning/Data/Social_Network_Ads.csv')\n",
    "df.head(10)"
   ]
  },
  {
   "cell_type": "code",
   "execution_count": 3,
   "metadata": {},
   "outputs": [
    {
     "name": "stdout",
     "output_type": "stream",
     "text": [
      "(400, 2) (400, 1)\n"
     ]
    }
   ],
   "source": [
    "X = df.iloc[:, [2,3]].values\n",
    "y = df.iloc[:, -1:].values\n",
    "\n",
    "print(X.shape, y.shape)"
   ]
  },
  {
   "cell_type": "code",
   "execution_count": 4,
   "metadata": {},
   "outputs": [
    {
     "name": "stdout",
     "output_type": "stream",
     "text": [
      "(320, 2) (80, 2)\n",
      "(320, 1) (80, 1)\n"
     ]
    }
   ],
   "source": [
    "X_train, X_test, y_train, y_test = train_test_split(X, y, test_size=0.2, random_state=42)\n",
    "\n",
    "print(X_train.shape, X_test.shape)\n",
    "print(y_train.shape, y_test.shape)"
   ]
  },
  {
   "cell_type": "code",
   "execution_count": 5,
   "metadata": {},
   "outputs": [],
   "source": [
    "X_max = X_train.max(axis=0, keepdims=True)\n",
    "X_min = X_train.min(axis=0, keepdims=True)\n",
    "\n",
    "X_train_scaled = (X_train - X_min) / (X_max - X_min)\n",
    "X_test_scaled = (X_test - X_min) / (X_max - X_min)"
   ]
  },
  {
   "cell_type": "markdown",
   "metadata": {},
   "source": [
    "# Activity 3"
   ]
  },
  {
   "cell_type": "code",
   "execution_count": 6,
   "metadata": {},
   "outputs": [],
   "source": [
    "g = lambda z : np.exp(z) / (1 + np.exp(z))\n",
    "\n",
    "def predict_prob(X, w):\n",
    "    z = np.dot(X, w.T)\n",
    "    return g(z)\n",
    "\n",
    "def predict(X, w):\n",
    "    y_hat = predict_prob(X, w)\n",
    "    y_hat = np.where(y_hat >= 0.5, 1, 0)\n",
    "    return y_hat"
   ]
  },
  {
   "cell_type": "code",
   "execution_count": 7,
   "metadata": {},
   "outputs": [],
   "source": [
    "def loss(X, y, w):\n",
    "    y_hat = predict_prob(X, w)\n",
    "    l = y * np.log(y_hat) + (1 - y) * np.log(1 - y_hat)\n",
    "    return -np.mean(l)"
   ]
  },
  {
   "cell_type": "code",
   "execution_count": 8,
   "metadata": {},
   "outputs": [],
   "source": [
    "def grad(X, y, w):\n",
    "    y_hat = predict_prob(X, w)\n",
    "    delta = y_hat - y\n",
    "    dw = np.dot(X.T, delta)\n",
    "    return dw.T"
   ]
  },
  {
   "cell_type": "code",
   "execution_count": 9,
   "metadata": {},
   "outputs": [],
   "source": [
    "def gradient_descent(X, y, lr=0.02, epochs=1000):\n",
    "    w = np.zeros((1, X.shape[1]))\n",
    "    losses = []\n",
    "    for i in range(epochs):\n",
    "        dw = grad(X, y, w)\n",
    "        w -= lr * dw\n",
    "        losses.append(loss(X, y, w))\n",
    "    return losses, w"
   ]
  },
  {
   "cell_type": "code",
   "execution_count": 10,
   "metadata": {},
   "outputs": [
    {
     "data": {
      "text/plain": [
       "[<matplotlib.lines.Line2D at 0x198794b31d0>]"
      ]
     },
     "execution_count": 10,
     "metadata": {},
     "output_type": "execute_result"
    },
    {
     "data": {
      "image/png": "[encoded data removed]",
      "text/plain": [
       "<Figure size 640x480 with 1 Axes>"
      ]
     },
     "metadata": {},
     "output_type": "display_data"
    }
   ],
   "source": [
    "loss, w = gradient_descent(X_train_scaled, y_train)\n",
    "plt.plot(loss)"
   ]
  },
  {
   "cell_type": "markdown",
   "metadata": {},
   "source": [
    "# Activity 4"
   ]
  },
  {
   "cell_type": "markdown",
   "metadata": {},
   "source": [
    "## Cau 1"
   ]
  },
  {
   "cell_type": "code",
   "execution_count": 11,
   "metadata": {},
   "outputs": [
    {
     "name": "stdout",
     "output_type": "stream",
     "text": [
      "Accuracy: 0.65\n",
      "Recall: 0.5714285714285714\n",
      "Precision: 0.5\n"
     ]
    }
   ],
   "source": [
    "y_pred = predict(X_test_scaled, w)\n",
    "\n",
    "print(f'Accuracy: {accuracy_score(y_test, y_pred)}')\n",
    "print(f'Recall: {recall_score(y_test, y_pred)}')\n",
    "print(f'Precision: {precision_score(y_test, y_pred)}')"
   ]
  },
  {
   "cell_type": "markdown",
   "metadata": {},
   "source": [
    "## Cau 2"
   ]
  },
  {
   "cell_type": "code",
   "execution_count": 12,
   "metadata": {},
   "outputs": [],
   "source": [
    "class LogisticRegression1:\n",
    "    def __init__(self, lr=0.02, epochs=1000):\n",
    "        self.lr = lr\n",
    "        self.epochs = epochs\n",
    "        self.w = None\n",
    "        self.losses = []\n",
    "\n",
    "    def g(self, z):\n",
    "        return np.exp(z) / (1 + np.exp(z))\n",
    "\n",
    "    def predict_prob(self, X):\n",
    "        z = np.dot(X, self.w.T)\n",
    "        return self.g(z)\n",
    "\n",
    "    def predict(self, X):\n",
    "        y_hat = self.predict_prob(X)\n",
    "        y_hat = np.where(y_hat >= 0.5, 1, 0)\n",
    "        return y_hat\n",
    "\n",
    "    def loss(self, X, y):\n",
    "        y_hat = self.predict_prob(X)\n",
    "        l = y * np.log(y_hat) + (1 - y) * np.log(1 - y_hat)\n",
    "        return -np.mean(l)\n",
    "\n",
    "    def grad(self, X, y):\n",
    "        y_hat = self.predict_prob(X)\n",
    "        delta = y_hat - y\n",
    "        dw = np.dot(X.T, delta)\n",
    "        return dw.T\n",
    "\n",
    "    def fit(self, X, y):\n",
    "        self.w = np.zeros((1, X.shape[1]))\n",
    "        for i in range(self.epochs):\n",
    "            dw = self.grad(X, y)\n",
    "            self.w -= self.lr * dw\n",
    "            self.losses.append(self.loss(X, y))\n",
    "\n",
    "    def evaluate(self, X, y):\n",
    "        y_pred = self.predict(X)\n",
    "        print(f'Accuracy: {accuracy_score(y, y_pred)}')\n",
    "        print(f'Recall: {recall_score(y, y_pred)}')\n",
    "        print(f'Precision: {precision_score(y, y_pred)}')"
   ]
  },
  {
   "cell_type": "code",
   "execution_count": 13,
   "metadata": {},
   "outputs": [
    {
     "name": "stdout",
     "output_type": "stream",
     "text": [
      "Accuracy: 0.65\n",
      "Recall: 0.5714285714285714\n",
      "Precision: 0.5\n"
     ]
    },
    {
     "data": {
      "text/plain": [
       "[<matplotlib.lines.Line2D at 0x1987af69a00>]"
      ]
     },
     "execution_count": 13,
     "metadata": {},
     "output_type": "execute_result"
    },
    {
     "data": {
      "image/png": "[encoded data removed]",
      "text/plain": [
       "<Figure size 640x480 with 1 Axes>"
      ]
     },
     "metadata": {},
     "output_type": "display_data"
    }
   ],
   "source": [
    "model = LogisticRegression1()\n",
    "model.fit(X_train_scaled, y_train)\n",
    "model.evaluate(X_test_scaled, y_test)\n",
    "plt.plot(model.losses)"
   ]
  },
  {
   "cell_type": "markdown",
   "metadata": {},
   "source": [
    "## Cau 3"
   ]
  },
  {
   "cell_type": "code",
   "execution_count": 14,
   "metadata": {},
   "outputs": [],
   "source": [
    "class LinearRegression:\n",
    "    def __init__(self, lr=0.01, epochs=1000):\n",
    "        self.lr = lr\n",
    "        self.epochs = epochs\n",
    "        self.w = None\n",
    "        self.losses = []\n",
    "\n",
    "    def g(self, z):\n",
    "        return np.exp(z) / (1 + np.exp(z))\n",
    "\n",
    "    def predict_prob(self, X):\n",
    "        z = np.dot(X, self.w.T)\n",
    "        return self.g(z)\n",
    "\n",
    "    def predict(self, X):\n",
    "        y_hat = self.predict_prob(X)\n",
    "        y_hat = np.where(y_hat >= 0.5, 1, 0)\n",
    "        return y_hat\n",
    "\n",
    "    def loss(self, X, y):\n",
    "        y_hat = self.predict_prob(X)\n",
    "        l = y * np.log(y_hat) + (1 - y) * np.log(1 - y_hat)\n",
    "        return -np.mean(l)\n",
    "\n",
    "    def grad(self, X, y):\n",
    "        y_hat = self.predict_prob(X)\n",
    "        delta = y_hat - y\n",
    "        dw = np.dot(X.T, delta)\n",
    "        return dw.T\n",
    "\n",
    "    def fit(self, X, y):\n",
    "        X_bias = np.c_[np.ones(X.shape[0]), X]\n",
    "        self.w = np.zeros((1, X_bias.shape[1]))\n",
    "        for i in range(self.epochs):\n",
    "            dw = self.grad(X_bias, y)\n",
    "            self.w -= self.lr * dw\n",
    "            self.losses.append(self.loss(X_bias, y))\n",
    "\n",
    "    def evaluate(self, X, y):\n",
    "        X_bias = np.c_[np.ones(X.shape[0]), X]\n",
    "        y_pred = self.predict(X_bias)\n",
    "        print(f'Accuracy: {accuracy_score(y, y_pred)}')\n",
    "        print(f'Recall: {recall_score(y, y_pred)}')\n",
    "        print(f'Precision: {precision_score(y, y_pred)}')"
   ]
  },
  {
   "cell_type": "code",
   "execution_count": 15,
   "metadata": {},
   "outputs": [
    {
     "name": "stdout",
     "output_type": "stream",
     "text": [
      "Accuracy: 0.8875\n",
      "Recall: 0.75\n",
      "Precision: 0.9130434782608695\n"
     ]
    },
    {
     "data": {
      "text/plain": [
       "[<matplotlib.lines.Line2D at 0x1987d171100>]"
      ]
     },
     "execution_count": 15,
     "metadata": {},
     "output_type": "execute_result"
    },
    {
     "data": {
      "image/png": "[encoded data removed]",
      "text/plain": [
       "<Figure size 640x480 with 1 Axes>"
      ]
     },
     "metadata": {},
     "output_type": "display_data"
    }
   ],
   "source": [
    "model = LinearRegression()\n",
    "model.fit(X_train_scaled, y_train)\n",
    "model.evaluate(X_test_scaled, y_test)\n",
    "plt.plot(model.losses)"
   ]
  }
 ],
 "metadata": {
  "kernelspec": {
   "display_name": "Python 3",
   "language": "python",
   "name": "python3"
  },
  "language_info": {
   "codemirror_mode": {
    "name": "ipython",
    "version": 3
   },
   "file_extension": ".py",
   "mimetype": "text/x-python",
   "name": "python",
   "nbconvert_exporter": "python",
   "pygments_lexer": "ipython3",
   "version": "3.12.5"
  }
 },
 "nbformat": 4,
 "nbformat_minor": 2
}
