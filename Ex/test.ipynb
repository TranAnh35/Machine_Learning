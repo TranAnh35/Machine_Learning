{
 "cells": [
  {
   "cell_type": "markdown",
   "metadata": {},
   "source": [
    "# Library & Data"
   ]
  },
  {
   "cell_type": "markdown",
   "metadata": {},
   "source": [
    "## Library"
   ]
  },
  {
   "cell_type": "code",
   "execution_count": 244,
   "metadata": {},
   "outputs": [],
   "source": [
    "import math\n",
    "import pandas as pd\n",
    "import numpy as np\n",
    "import matplotlib.pyplot as plt\n",
    "from sklearn.datasets import make_blobs\n",
    "from sklearn.preprocessing import MinMaxScaler, OneHotEncoder\n",
    "from sklearn.model_selection import train_test_split\n",
    "from sklearn.metrics import mean_absolute_error, root_mean_squared_error, r2_score\n",
    "from sklearn.metrics import accuracy_score, recall_score, precision_score"
   ]
  },
  {
   "cell_type": "markdown",
   "metadata": {},
   "source": [
    "## Data"
   ]
  },
  {
   "cell_type": "markdown",
   "metadata": {},
   "source": [
    "### classifier"
   ]
  },
  {
   "cell_type": "code",
   "execution_count": 2,
   "metadata": {},
   "outputs": [
    {
     "data": {
      "text/html": [
       "<div>\n",
       "<style scoped>\n",
       "    .dataframe tbody tr th:only-of-type {\n",
       "        vertical-align: middle;\n",
       "    }\n",
       "\n",
       "    .dataframe tbody tr th {\n",
       "        vertical-align: top;\n",
       "    }\n",
       "\n",
       "    .dataframe thead th {\n",
       "        text-align: right;\n",
       "    }\n",
       "</style>\n",
       "<table border=\"1\" class=\"dataframe\">\n",
       "  <thead>\n",
       "    <tr style=\"text-align: right;\">\n",
       "      <th></th>\n",
       "      <th>User ID</th>\n",
       "      <th>Gender</th>\n",
       "      <th>Age</th>\n",
       "      <th>EstimatedSalary</th>\n",
       "      <th>Purchased</th>\n",
       "    </tr>\n",
       "  </thead>\n",
       "  <tbody>\n",
       "    <tr>\n",
       "      <th>0</th>\n",
       "      <td>15624510</td>\n",
       "      <td>Male</td>\n",
       "      <td>19</td>\n",
       "      <td>19000</td>\n",
       "      <td>0</td>\n",
       "    </tr>\n",
       "    <tr>\n",
       "      <th>1</th>\n",
       "      <td>15810944</td>\n",
       "      <td>Male</td>\n",
       "      <td>35</td>\n",
       "      <td>20000</td>\n",
       "      <td>0</td>\n",
       "    </tr>\n",
       "    <tr>\n",
       "      <th>2</th>\n",
       "      <td>15668575</td>\n",
       "      <td>Female</td>\n",
       "      <td>26</td>\n",
       "      <td>43000</td>\n",
       "      <td>0</td>\n",
       "    </tr>\n",
       "    <tr>\n",
       "      <th>3</th>\n",
       "      <td>15603246</td>\n",
       "      <td>Female</td>\n",
       "      <td>27</td>\n",
       "      <td>57000</td>\n",
       "      <td>0</td>\n",
       "    </tr>\n",
       "    <tr>\n",
       "      <th>4</th>\n",
       "      <td>15804002</td>\n",
       "      <td>Male</td>\n",
       "      <td>19</td>\n",
       "      <td>76000</td>\n",
       "      <td>0</td>\n",
       "    </tr>\n",
       "  </tbody>\n",
       "</table>\n",
       "</div>"
      ],
      "text/plain": [
       "    User ID  Gender  Age  EstimatedSalary  Purchased\n",
       "0  15624510    Male   19            19000          0\n",
       "1  15810944    Male   35            20000          0\n",
       "2  15668575  Female   26            43000          0\n",
       "3  15603246  Female   27            57000          0\n",
       "4  15804002    Male   19            76000          0"
      ]
     },
     "execution_count": 2,
     "metadata": {},
     "output_type": "execute_result"
    }
   ],
   "source": [
    "# data classifier\n",
    "data_classifier_1 = pd.read_csv(\"E:/VSCode/Python/Machine_Learning/Data/Social_Network_Ads.csv\")\n",
    "data_classifier_1.head()"
   ]
  },
  {
   "cell_type": "code",
   "execution_count": 3,
   "metadata": {},
   "outputs": [
    {
     "data": {
      "text/plain": [
       "User ID             int64\n",
       "Gender             object\n",
       "Age                 int64\n",
       "EstimatedSalary     int64\n",
       "Purchased           int64\n",
       "dtype: object"
      ]
     },
     "execution_count": 3,
     "metadata": {},
     "output_type": "execute_result"
    }
   ],
   "source": [
    "data_classifier_1.dtypes"
   ]
  },
  {
   "cell_type": "code",
   "execution_count": 4,
   "metadata": {},
   "outputs": [
    {
     "data": {
      "text/plain": [
       "User ID            0\n",
       "Gender             0\n",
       "Age                0\n",
       "EstimatedSalary    0\n",
       "Purchased          0\n",
       "dtype: int64"
      ]
     },
     "execution_count": 4,
     "metadata": {},
     "output_type": "execute_result"
    }
   ],
   "source": [
    "data_classifier_1.isnull().sum()"
   ]
  },
  {
   "cell_type": "code",
   "execution_count": null,
   "metadata": {},
   "outputs": [],
   "source": [
    "data_classifier_1['Gender'] = np.where(data_classifier_1['Gender'] == 'Male', 1, 0)"
   ]
  },
  {
   "cell_type": "code",
   "execution_count": 59,
   "metadata": {},
   "outputs": [
    {
     "data": {
      "text/html": [
       "<div>\n",
       "<style scoped>\n",
       "    .dataframe tbody tr th:only-of-type {\n",
       "        vertical-align: middle;\n",
       "    }\n",
       "\n",
       "    .dataframe tbody tr th {\n",
       "        vertical-align: top;\n",
       "    }\n",
       "\n",
       "    .dataframe thead th {\n",
       "        text-align: right;\n",
       "    }\n",
       "</style>\n",
       "<table border=\"1\" class=\"dataframe\">\n",
       "  <thead>\n",
       "    <tr style=\"text-align: right;\">\n",
       "      <th></th>\n",
       "      <th>User ID</th>\n",
       "      <th>Gender</th>\n",
       "      <th>Age</th>\n",
       "      <th>EstimatedSalary</th>\n",
       "      <th>Purchased</th>\n",
       "    </tr>\n",
       "  </thead>\n",
       "  <tbody>\n",
       "    <tr>\n",
       "      <th>0</th>\n",
       "      <td>15624510</td>\n",
       "      <td>1</td>\n",
       "      <td>19</td>\n",
       "      <td>19000</td>\n",
       "      <td>0</td>\n",
       "    </tr>\n",
       "    <tr>\n",
       "      <th>1</th>\n",
       "      <td>15810944</td>\n",
       "      <td>1</td>\n",
       "      <td>35</td>\n",
       "      <td>20000</td>\n",
       "      <td>0</td>\n",
       "    </tr>\n",
       "    <tr>\n",
       "      <th>2</th>\n",
       "      <td>15668575</td>\n",
       "      <td>0</td>\n",
       "      <td>26</td>\n",
       "      <td>43000</td>\n",
       "      <td>0</td>\n",
       "    </tr>\n",
       "    <tr>\n",
       "      <th>3</th>\n",
       "      <td>15603246</td>\n",
       "      <td>0</td>\n",
       "      <td>27</td>\n",
       "      <td>57000</td>\n",
       "      <td>0</td>\n",
       "    </tr>\n",
       "    <tr>\n",
       "      <th>4</th>\n",
       "      <td>15804002</td>\n",
       "      <td>1</td>\n",
       "      <td>19</td>\n",
       "      <td>76000</td>\n",
       "      <td>0</td>\n",
       "    </tr>\n",
       "  </tbody>\n",
       "</table>\n",
       "</div>"
      ],
      "text/plain": [
       "    User ID  Gender  Age  EstimatedSalary  Purchased\n",
       "0  15624510       1   19            19000          0\n",
       "1  15810944       1   35            20000          0\n",
       "2  15668575       0   26            43000          0\n",
       "3  15603246       0   27            57000          0\n",
       "4  15804002       1   19            76000          0"
      ]
     },
     "execution_count": 59,
     "metadata": {},
     "output_type": "execute_result"
    }
   ],
   "source": [
    "data_classifier_1.head()"
   ]
  },
  {
   "cell_type": "code",
   "execution_count": null,
   "metadata": {},
   "outputs": [],
   "source": [
    "X_dc_1 = data_classifier_1.iloc[:, 1:-1].values\n",
    "y_dc_1 = data_classifier_1.iloc[:, -1].values"
   ]
  },
  {
   "cell_type": "code",
   "execution_count": 316,
   "metadata": {},
   "outputs": [
    {
     "data": {
      "text/html": [
       "<div>\n",
       "<style scoped>\n",
       "    .dataframe tbody tr th:only-of-type {\n",
       "        vertical-align: middle;\n",
       "    }\n",
       "\n",
       "    .dataframe tbody tr th {\n",
       "        vertical-align: top;\n",
       "    }\n",
       "\n",
       "    .dataframe thead th {\n",
       "        text-align: right;\n",
       "    }\n",
       "</style>\n",
       "<table border=\"1\" class=\"dataframe\">\n",
       "  <thead>\n",
       "    <tr style=\"text-align: right;\">\n",
       "      <th></th>\n",
       "      <th>V1</th>\n",
       "      <th>V2</th>\n",
       "      <th>V3</th>\n",
       "      <th>V4</th>\n",
       "      <th>V5</th>\n",
       "      <th>V6</th>\n",
       "      <th>V7</th>\n",
       "      <th>V8</th>\n",
       "      <th>V9</th>\n",
       "      <th>V10</th>\n",
       "      <th>...</th>\n",
       "      <th>V12592</th>\n",
       "      <th>V12593</th>\n",
       "      <th>V12594</th>\n",
       "      <th>V12595</th>\n",
       "      <th>V12596</th>\n",
       "      <th>V12597</th>\n",
       "      <th>V12598</th>\n",
       "      <th>V12599</th>\n",
       "      <th>V12600</th>\n",
       "      <th>V12601</th>\n",
       "    </tr>\n",
       "  </thead>\n",
       "  <tbody>\n",
       "    <tr>\n",
       "      <th>0</th>\n",
       "      <td>0</td>\n",
       "      <td>-18.600</td>\n",
       "      <td>10.54</td>\n",
       "      <td>0.010</td>\n",
       "      <td>19.440</td>\n",
       "      <td>-16.980</td>\n",
       "      <td>-27.50</td>\n",
       "      <td>-1.600</td>\n",
       "      <td>38.88</td>\n",
       "      <td>-29.120</td>\n",
       "      <td>...</td>\n",
       "      <td>120.00</td>\n",
       "      <td>8.110</td>\n",
       "      <td>33.210</td>\n",
       "      <td>30.780</td>\n",
       "      <td>47.80</td>\n",
       "      <td>1.630</td>\n",
       "      <td>17.020</td>\n",
       "      <td>13.780</td>\n",
       "      <td>-103.49</td>\n",
       "      <td>76.980</td>\n",
       "    </tr>\n",
       "    <tr>\n",
       "      <th>1</th>\n",
       "      <td>0</td>\n",
       "      <td>9.120</td>\n",
       "      <td>9.12</td>\n",
       "      <td>10.180</td>\n",
       "      <td>29.290</td>\n",
       "      <td>-4.680</td>\n",
       "      <td>-1.50</td>\n",
       "      <td>-3.620</td>\n",
       "      <td>20.80</td>\n",
       "      <td>-13.180</td>\n",
       "      <td>...</td>\n",
       "      <td>63.27</td>\n",
       "      <td>15.490</td>\n",
       "      <td>27.170</td>\n",
       "      <td>26.110</td>\n",
       "      <td>45.22</td>\n",
       "      <td>10.180</td>\n",
       "      <td>69.640</td>\n",
       "      <td>-24.850</td>\n",
       "      <td>-34.41</td>\n",
       "      <td>105.730</td>\n",
       "    </tr>\n",
       "    <tr>\n",
       "      <th>2</th>\n",
       "      <td>0</td>\n",
       "      <td>-2.175</td>\n",
       "      <td>-2.21</td>\n",
       "      <td>-0.060</td>\n",
       "      <td>6.320</td>\n",
       "      <td>-1.775</td>\n",
       "      <td>-16.53</td>\n",
       "      <td>-3.610</td>\n",
       "      <td>16.41</td>\n",
       "      <td>-17.970</td>\n",
       "      <td>...</td>\n",
       "      <td>67.44</td>\n",
       "      <td>14.610</td>\n",
       "      <td>10.875</td>\n",
       "      <td>10.615</td>\n",
       "      <td>35.14</td>\n",
       "      <td>1.745</td>\n",
       "      <td>29.710</td>\n",
       "      <td>10.465</td>\n",
       "      <td>-42.63</td>\n",
       "      <td>73.735</td>\n",
       "    </tr>\n",
       "    <tr>\n",
       "      <th>3</th>\n",
       "      <td>0</td>\n",
       "      <td>-1.540</td>\n",
       "      <td>21.75</td>\n",
       "      <td>5.835</td>\n",
       "      <td>23.815</td>\n",
       "      <td>-24.785</td>\n",
       "      <td>-12.89</td>\n",
       "      <td>-4.485</td>\n",
       "      <td>19.50</td>\n",
       "      <td>-21.445</td>\n",
       "      <td>...</td>\n",
       "      <td>133.94</td>\n",
       "      <td>9.615</td>\n",
       "      <td>27.355</td>\n",
       "      <td>30.860</td>\n",
       "      <td>48.71</td>\n",
       "      <td>10.355</td>\n",
       "      <td>40.845</td>\n",
       "      <td>54.615</td>\n",
       "      <td>-71.38</td>\n",
       "      <td>65.435</td>\n",
       "    </tr>\n",
       "    <tr>\n",
       "      <th>4</th>\n",
       "      <td>0</td>\n",
       "      <td>-9.070</td>\n",
       "      <td>3.08</td>\n",
       "      <td>-1.980</td>\n",
       "      <td>17.260</td>\n",
       "      <td>-10.090</td>\n",
       "      <td>-15.15</td>\n",
       "      <td>-18.190</td>\n",
       "      <td>13.21</td>\n",
       "      <td>-13.130</td>\n",
       "      <td>...</td>\n",
       "      <td>99.23</td>\n",
       "      <td>-14.140</td>\n",
       "      <td>23.340</td>\n",
       "      <td>6.120</td>\n",
       "      <td>33.46</td>\n",
       "      <td>-10.090</td>\n",
       "      <td>40.550</td>\n",
       "      <td>16.250</td>\n",
       "      <td>-48.59</td>\n",
       "      <td>39.540</td>\n",
       "    </tr>\n",
       "    <tr>\n",
       "      <th>...</th>\n",
       "      <td>...</td>\n",
       "      <td>...</td>\n",
       "      <td>...</td>\n",
       "      <td>...</td>\n",
       "      <td>...</td>\n",
       "      <td>...</td>\n",
       "      <td>...</td>\n",
       "      <td>...</td>\n",
       "      <td>...</td>\n",
       "      <td>...</td>\n",
       "      <td>...</td>\n",
       "      <td>...</td>\n",
       "      <td>...</td>\n",
       "      <td>...</td>\n",
       "      <td>...</td>\n",
       "      <td>...</td>\n",
       "      <td>...</td>\n",
       "      <td>...</td>\n",
       "      <td>...</td>\n",
       "      <td>...</td>\n",
       "      <td>...</td>\n",
       "    </tr>\n",
       "    <tr>\n",
       "      <th>198</th>\n",
       "      <td>3</td>\n",
       "      <td>35.140</td>\n",
       "      <td>106.16</td>\n",
       "      <td>52.280</td>\n",
       "      <td>65.340</td>\n",
       "      <td>27.790</td>\n",
       "      <td>33.50</td>\n",
       "      <td>95.540</td>\n",
       "      <td>93.09</td>\n",
       "      <td>14.730</td>\n",
       "      <td>...</td>\n",
       "      <td>289.93</td>\n",
       "      <td>74.320</td>\n",
       "      <td>77.580</td>\n",
       "      <td>73.500</td>\n",
       "      <td>76.77</td>\n",
       "      <td>48.200</td>\n",
       "      <td>71.870</td>\n",
       "      <td>143.720</td>\n",
       "      <td>41.67</td>\n",
       "      <td>118.410</td>\n",
       "    </tr>\n",
       "    <tr>\n",
       "      <th>199</th>\n",
       "      <td>3</td>\n",
       "      <td>-21.150</td>\n",
       "      <td>-31.20</td>\n",
       "      <td>-11.820</td>\n",
       "      <td>8.280</td>\n",
       "      <td>-24.740</td>\n",
       "      <td>-29.77</td>\n",
       "      <td>3.970</td>\n",
       "      <td>21.92</td>\n",
       "      <td>-31.200</td>\n",
       "      <td>...</td>\n",
       "      <td>200.37</td>\n",
       "      <td>-16.130</td>\n",
       "      <td>11.150</td>\n",
       "      <td>-6.080</td>\n",
       "      <td>35.57</td>\n",
       "      <td>-3.210</td>\n",
       "      <td>24.070</td>\n",
       "      <td>-56.310</td>\n",
       "      <td>-43.40</td>\n",
       "      <td>65.030</td>\n",
       "    </tr>\n",
       "    <tr>\n",
       "      <th>200</th>\n",
       "      <td>3</td>\n",
       "      <td>26.900</td>\n",
       "      <td>10.44</td>\n",
       "      <td>18.230</td>\n",
       "      <td>33.830</td>\n",
       "      <td>-11.220</td>\n",
       "      <td>-4.29</td>\n",
       "      <td>19.970</td>\n",
       "      <td>14.77</td>\n",
       "      <td>-10.350</td>\n",
       "      <td>...</td>\n",
       "      <td>174.35</td>\n",
       "      <td>41.630</td>\n",
       "      <td>26.900</td>\n",
       "      <td>34.700</td>\n",
       "      <td>76.30</td>\n",
       "      <td>6.970</td>\n",
       "      <td>32.100</td>\n",
       "      <td>-28.540</td>\n",
       "      <td>0.04</td>\n",
       "      <td>71.970</td>\n",
       "    </tr>\n",
       "    <tr>\n",
       "      <th>201</th>\n",
       "      <td>3</td>\n",
       "      <td>23.800</td>\n",
       "      <td>29.14</td>\n",
       "      <td>31.800</td>\n",
       "      <td>65.610</td>\n",
       "      <td>4.240</td>\n",
       "      <td>24.69</td>\n",
       "      <td>31.800</td>\n",
       "      <td>62.94</td>\n",
       "      <td>-14.420</td>\n",
       "      <td>...</td>\n",
       "      <td>175.20</td>\n",
       "      <td>17.580</td>\n",
       "      <td>51.370</td>\n",
       "      <td>30.910</td>\n",
       "      <td>94.10</td>\n",
       "      <td>26.470</td>\n",
       "      <td>41.590</td>\n",
       "      <td>117.260</td>\n",
       "      <td>-36.64</td>\n",
       "      <td>135.080</td>\n",
       "    </tr>\n",
       "    <tr>\n",
       "      <th>202</th>\n",
       "      <td>3</td>\n",
       "      <td>-18.370</td>\n",
       "      <td>-1.03</td>\n",
       "      <td>-8.260</td>\n",
       "      <td>27.150</td>\n",
       "      <td>-23.430</td>\n",
       "      <td>-32.81</td>\n",
       "      <td>-21.980</td>\n",
       "      <td>3.30</td>\n",
       "      <td>-24.870</td>\n",
       "      <td>...</td>\n",
       "      <td>185.79</td>\n",
       "      <td>-2.480</td>\n",
       "      <td>14.140</td>\n",
       "      <td>18.480</td>\n",
       "      <td>53.91</td>\n",
       "      <td>-4.640</td>\n",
       "      <td>10.530</td>\n",
       "      <td>74.170</td>\n",
       "      <td>-24.87</td>\n",
       "      <td>40.170</td>\n",
       "    </tr>\n",
       "  </tbody>\n",
       "</table>\n",
       "<p>203 rows × 12601 columns</p>\n",
       "</div>"
      ],
      "text/plain": [
       "     V1      V2      V3      V4      V5      V6     V7      V8     V9     V10  \\\n",
       "0     0 -18.600   10.54   0.010  19.440 -16.980 -27.50  -1.600  38.88 -29.120   \n",
       "1     0   9.120    9.12  10.180  29.290  -4.680  -1.50  -3.620  20.80 -13.180   \n",
       "2     0  -2.175   -2.21  -0.060   6.320  -1.775 -16.53  -3.610  16.41 -17.970   \n",
       "3     0  -1.540   21.75   5.835  23.815 -24.785 -12.89  -4.485  19.50 -21.445   \n",
       "4     0  -9.070    3.08  -1.980  17.260 -10.090 -15.15 -18.190  13.21 -13.130   \n",
       "..   ..     ...     ...     ...     ...     ...    ...     ...    ...     ...   \n",
       "198   3  35.140  106.16  52.280  65.340  27.790  33.50  95.540  93.09  14.730   \n",
       "199   3 -21.150  -31.20 -11.820   8.280 -24.740 -29.77   3.970  21.92 -31.200   \n",
       "200   3  26.900   10.44  18.230  33.830 -11.220  -4.29  19.970  14.77 -10.350   \n",
       "201   3  23.800   29.14  31.800  65.610   4.240  24.69  31.800  62.94 -14.420   \n",
       "202   3 -18.370   -1.03  -8.260  27.150 -23.430 -32.81 -21.980   3.30 -24.870   \n",
       "\n",
       "     ...  V12592  V12593  V12594  V12595  V12596  V12597  V12598   V12599  \\\n",
       "0    ...  120.00   8.110  33.210  30.780   47.80   1.630  17.020   13.780   \n",
       "1    ...   63.27  15.490  27.170  26.110   45.22  10.180  69.640  -24.850   \n",
       "2    ...   67.44  14.610  10.875  10.615   35.14   1.745  29.710   10.465   \n",
       "3    ...  133.94   9.615  27.355  30.860   48.71  10.355  40.845   54.615   \n",
       "4    ...   99.23 -14.140  23.340   6.120   33.46 -10.090  40.550   16.250   \n",
       "..   ...     ...     ...     ...     ...     ...     ...     ...      ...   \n",
       "198  ...  289.93  74.320  77.580  73.500   76.77  48.200  71.870  143.720   \n",
       "199  ...  200.37 -16.130  11.150  -6.080   35.57  -3.210  24.070  -56.310   \n",
       "200  ...  174.35  41.630  26.900  34.700   76.30   6.970  32.100  -28.540   \n",
       "201  ...  175.20  17.580  51.370  30.910   94.10  26.470  41.590  117.260   \n",
       "202  ...  185.79  -2.480  14.140  18.480   53.91  -4.640  10.530   74.170   \n",
       "\n",
       "     V12600   V12601  \n",
       "0   -103.49   76.980  \n",
       "1    -34.41  105.730  \n",
       "2    -42.63   73.735  \n",
       "3    -71.38   65.435  \n",
       "4    -48.59   39.540  \n",
       "..      ...      ...  \n",
       "198   41.67  118.410  \n",
       "199  -43.40   65.030  \n",
       "200    0.04   71.970  \n",
       "201  -36.64  135.080  \n",
       "202  -24.87   40.170  \n",
       "\n",
       "[203 rows x 12601 columns]"
      ]
     },
     "execution_count": 316,
     "metadata": {},
     "output_type": "execute_result"
    }
   ],
   "source": [
    "data_classifier_2 = pd.read_csv(\"E:/VSCode/Python/Machine_Learning/Data/Lung_cancer.csv\")\n",
    "data_classifier_2"
   ]
  },
  {
   "cell_type": "code",
   "execution_count": 318,
   "metadata": {},
   "outputs": [],
   "source": [
    "X_dc_2 = data_classifier_2.iloc[:, 1:].values\n",
    "y_dc_2 = data_classifier_2.iloc[:, 0].values"
   ]
  },
  {
   "cell_type": "markdown",
   "metadata": {},
   "source": [
    "### Regression"
   ]
  },
  {
   "cell_type": "code",
   "execution_count": 5,
   "metadata": {},
   "outputs": [
    {
     "data": {
      "text/html": [
       "<div>\n",
       "<style scoped>\n",
       "    .dataframe tbody tr th:only-of-type {\n",
       "        vertical-align: middle;\n",
       "    }\n",
       "\n",
       "    .dataframe tbody tr th {\n",
       "        vertical-align: top;\n",
       "    }\n",
       "\n",
       "    .dataframe thead th {\n",
       "        text-align: right;\n",
       "    }\n",
       "</style>\n",
       "<table border=\"1\" class=\"dataframe\">\n",
       "  <thead>\n",
       "    <tr style=\"text-align: right;\">\n",
       "      <th></th>\n",
       "      <th>R&amp;D Spend</th>\n",
       "      <th>Administration</th>\n",
       "      <th>Marketing Spend</th>\n",
       "      <th>State</th>\n",
       "      <th>Profit</th>\n",
       "    </tr>\n",
       "  </thead>\n",
       "  <tbody>\n",
       "    <tr>\n",
       "      <th>0</th>\n",
       "      <td>165349.20</td>\n",
       "      <td>136897.80</td>\n",
       "      <td>471784.10</td>\n",
       "      <td>New York</td>\n",
       "      <td>192261.83</td>\n",
       "    </tr>\n",
       "    <tr>\n",
       "      <th>1</th>\n",
       "      <td>162597.70</td>\n",
       "      <td>151377.59</td>\n",
       "      <td>443898.53</td>\n",
       "      <td>California</td>\n",
       "      <td>191792.06</td>\n",
       "    </tr>\n",
       "    <tr>\n",
       "      <th>2</th>\n",
       "      <td>153441.51</td>\n",
       "      <td>101145.55</td>\n",
       "      <td>407934.54</td>\n",
       "      <td>Florida</td>\n",
       "      <td>191050.39</td>\n",
       "    </tr>\n",
       "    <tr>\n",
       "      <th>3</th>\n",
       "      <td>144372.41</td>\n",
       "      <td>118671.85</td>\n",
       "      <td>383199.62</td>\n",
       "      <td>New York</td>\n",
       "      <td>182901.99</td>\n",
       "    </tr>\n",
       "    <tr>\n",
       "      <th>4</th>\n",
       "      <td>142107.34</td>\n",
       "      <td>91391.77</td>\n",
       "      <td>366168.42</td>\n",
       "      <td>Florida</td>\n",
       "      <td>166187.94</td>\n",
       "    </tr>\n",
       "  </tbody>\n",
       "</table>\n",
       "</div>"
      ],
      "text/plain": [
       "   R&D Spend  Administration  Marketing Spend       State     Profit\n",
       "0  165349.20       136897.80        471784.10    New York  192261.83\n",
       "1  162597.70       151377.59        443898.53  California  191792.06\n",
       "2  153441.51       101145.55        407934.54     Florida  191050.39\n",
       "3  144372.41       118671.85        383199.62    New York  182901.99\n",
       "4  142107.34        91391.77        366168.42     Florida  166187.94"
      ]
     },
     "execution_count": 5,
     "metadata": {},
     "output_type": "execute_result"
    }
   ],
   "source": [
    "# data regression 1\n",
    "data_regression_1 = pd.read_csv(\"E:/VSCode/Python/Machine_Learning/Data/50_Startups.csv\")\n",
    "data_regression_1.head()"
   ]
  },
  {
   "cell_type": "code",
   "execution_count": 6,
   "metadata": {},
   "outputs": [
    {
     "data": {
      "text/plain": [
       "R&D Spend          float64\n",
       "Administration     float64\n",
       "Marketing Spend    float64\n",
       "State               object\n",
       "Profit             float64\n",
       "dtype: object"
      ]
     },
     "execution_count": 6,
     "metadata": {},
     "output_type": "execute_result"
    }
   ],
   "source": [
    "data_regression_1.dtypes"
   ]
  },
  {
   "cell_type": "code",
   "execution_count": 7,
   "metadata": {},
   "outputs": [
    {
     "data": {
      "text/plain": [
       "R&D Spend          0\n",
       "Administration     0\n",
       "Marketing Spend    0\n",
       "State              0\n",
       "Profit             0\n",
       "dtype: int64"
      ]
     },
     "execution_count": 7,
     "metadata": {},
     "output_type": "execute_result"
    }
   ],
   "source": [
    "data_regression_1.isnull().sum()"
   ]
  },
  {
   "cell_type": "code",
   "execution_count": 8,
   "metadata": {},
   "outputs": [],
   "source": [
    "X_dr_1 = data_regression_1.iloc[:, :-2].values\n",
    "y_dr_1 = data_regression_1.iloc[:, -1].values"
   ]
  },
  {
   "cell_type": "code",
   "execution_count": 9,
   "metadata": {},
   "outputs": [
    {
     "data": {
      "text/html": [
       "<div>\n",
       "<style scoped>\n",
       "    .dataframe tbody tr th:only-of-type {\n",
       "        vertical-align: middle;\n",
       "    }\n",
       "\n",
       "    .dataframe tbody tr th {\n",
       "        vertical-align: top;\n",
       "    }\n",
       "\n",
       "    .dataframe thead th {\n",
       "        text-align: right;\n",
       "    }\n",
       "</style>\n",
       "<table border=\"1\" class=\"dataframe\">\n",
       "  <thead>\n",
       "    <tr style=\"text-align: right;\">\n",
       "      <th></th>\n",
       "      <th>mpg</th>\n",
       "      <th>cylinders</th>\n",
       "      <th>displacement</th>\n",
       "      <th>horsepower</th>\n",
       "      <th>weight</th>\n",
       "      <th>acceleration</th>\n",
       "      <th>model year</th>\n",
       "      <th>origin</th>\n",
       "      <th>car name</th>\n",
       "    </tr>\n",
       "  </thead>\n",
       "  <tbody>\n",
       "    <tr>\n",
       "      <th>0</th>\n",
       "      <td>18.0</td>\n",
       "      <td>8</td>\n",
       "      <td>307.0</td>\n",
       "      <td>130</td>\n",
       "      <td>3504</td>\n",
       "      <td>12.0</td>\n",
       "      <td>70</td>\n",
       "      <td>1</td>\n",
       "      <td>chevrolet chevelle malibu</td>\n",
       "    </tr>\n",
       "    <tr>\n",
       "      <th>1</th>\n",
       "      <td>15.0</td>\n",
       "      <td>8</td>\n",
       "      <td>350.0</td>\n",
       "      <td>165</td>\n",
       "      <td>3693</td>\n",
       "      <td>11.5</td>\n",
       "      <td>70</td>\n",
       "      <td>1</td>\n",
       "      <td>buick skylark 320</td>\n",
       "    </tr>\n",
       "    <tr>\n",
       "      <th>2</th>\n",
       "      <td>18.0</td>\n",
       "      <td>8</td>\n",
       "      <td>318.0</td>\n",
       "      <td>150</td>\n",
       "      <td>3436</td>\n",
       "      <td>11.0</td>\n",
       "      <td>70</td>\n",
       "      <td>1</td>\n",
       "      <td>plymouth satellite</td>\n",
       "    </tr>\n",
       "    <tr>\n",
       "      <th>3</th>\n",
       "      <td>16.0</td>\n",
       "      <td>8</td>\n",
       "      <td>304.0</td>\n",
       "      <td>150</td>\n",
       "      <td>3433</td>\n",
       "      <td>12.0</td>\n",
       "      <td>70</td>\n",
       "      <td>1</td>\n",
       "      <td>amc rebel sst</td>\n",
       "    </tr>\n",
       "    <tr>\n",
       "      <th>4</th>\n",
       "      <td>17.0</td>\n",
       "      <td>8</td>\n",
       "      <td>302.0</td>\n",
       "      <td>140</td>\n",
       "      <td>3449</td>\n",
       "      <td>10.5</td>\n",
       "      <td>70</td>\n",
       "      <td>1</td>\n",
       "      <td>ford torino</td>\n",
       "    </tr>\n",
       "  </tbody>\n",
       "</table>\n",
       "</div>"
      ],
      "text/plain": [
       "    mpg  cylinders  displacement horsepower  weight  acceleration  model year  \\\n",
       "0  18.0          8         307.0        130    3504          12.0          70   \n",
       "1  15.0          8         350.0        165    3693          11.5          70   \n",
       "2  18.0          8         318.0        150    3436          11.0          70   \n",
       "3  16.0          8         304.0        150    3433          12.0          70   \n",
       "4  17.0          8         302.0        140    3449          10.5          70   \n",
       "\n",
       "   origin                   car name  \n",
       "0       1  chevrolet chevelle malibu  \n",
       "1       1          buick skylark 320  \n",
       "2       1         plymouth satellite  \n",
       "3       1              amc rebel sst  \n",
       "4       1                ford torino  "
      ]
     },
     "execution_count": 9,
     "metadata": {},
     "output_type": "execute_result"
    }
   ],
   "source": [
    "# data regression 2\n",
    "data_regression_2 = pd.read_csv(\"E:/VSCode/Python/Machine_Learning/Data/auto-mpg.csv\")\n",
    "data_regression_2.head()"
   ]
  },
  {
   "cell_type": "code",
   "execution_count": 10,
   "metadata": {},
   "outputs": [
    {
     "data": {
      "text/plain": [
       "(398, 9)"
      ]
     },
     "execution_count": 10,
     "metadata": {},
     "output_type": "execute_result"
    }
   ],
   "source": [
    "data_regression_2.shape"
   ]
  },
  {
   "cell_type": "code",
   "execution_count": 11,
   "metadata": {},
   "outputs": [
    {
     "data": {
      "text/plain": [
       "mpg             float64\n",
       "cylinders         int64\n",
       "displacement    float64\n",
       "horsepower       object\n",
       "weight            int64\n",
       "acceleration    float64\n",
       "model year        int64\n",
       "origin            int64\n",
       "car name         object\n",
       "dtype: object"
      ]
     },
     "execution_count": 11,
     "metadata": {},
     "output_type": "execute_result"
    }
   ],
   "source": [
    "data_regression_2.dtypes"
   ]
  },
  {
   "cell_type": "code",
   "execution_count": 12,
   "metadata": {},
   "outputs": [],
   "source": [
    "data_regression_2['horsepower'] = pd.to_numeric(data_regression_2['horsepower'], errors='coerce').astype('Int64')\n",
    "data_regression_2 = data_regression_2.dropna()"
   ]
  },
  {
   "cell_type": "code",
   "execution_count": 13,
   "metadata": {},
   "outputs": [
    {
     "data": {
      "text/plain": [
       "mpg             0\n",
       "cylinders       0\n",
       "displacement    0\n",
       "horsepower      0\n",
       "weight          0\n",
       "acceleration    0\n",
       "model year      0\n",
       "origin          0\n",
       "car name        0\n",
       "dtype: int64"
      ]
     },
     "execution_count": 13,
     "metadata": {},
     "output_type": "execute_result"
    }
   ],
   "source": [
    "data_regression_2.isnull().sum()"
   ]
  },
  {
   "cell_type": "code",
   "execution_count": 14,
   "metadata": {},
   "outputs": [],
   "source": [
    "X_dr_2 = data_regression_2.iloc[:, 1:-1].values\n",
    "y_dr_2 = data_regression_2.iloc[:, 0].values"
   ]
  },
  {
   "cell_type": "markdown",
   "metadata": {},
   "source": [
    "# Regression"
   ]
  },
  {
   "cell_type": "code",
   "execution_count": 48,
   "metadata": {},
   "outputs": [],
   "source": [
    "def RMSE(y, y_pred):\n",
    "    y_hat = y - y_pred\n",
    "    return math.sqrt(np.mean(y_hat**2))\n",
    "\n",
    "def MAE(y, y_pred):\n",
    "    y_hat = y - y_pred\n",
    "    return np.mean(abs(y_hat))\n",
    "\n",
    "def R2(y, y_pred):\n",
    "    ss_res = np.sum((y - y_pred) ** 2)\n",
    "    ss_tot = np.sum((y - np.mean(y)) ** 2)\n",
    "    r2_score = 1 - (ss_res / ss_tot)\n",
    "    return r2_score\n",
    "\n",
    "def evaluate(y, y_pred):\n",
    "    print(f'RMSE: {RMSE(y, y_pred)}')\n",
    "    print(f'MAE: {MAE(y, y_pred)}')\n",
    "    print(f'R2: {R2(y, y_pred)}')"
   ]
  },
  {
   "cell_type": "markdown",
   "metadata": {},
   "source": [
    "## Linear Regression"
   ]
  },
  {
   "cell_type": "markdown",
   "metadata": {},
   "source": [
    "### Without Bias"
   ]
  },
  {
   "cell_type": "code",
   "execution_count": 157,
   "metadata": {},
   "outputs": [],
   "source": [
    "class LinearClassifierWithoutBias:\n",
    "    def __init__(self, lr=0.001, epochs=1000, tolerance=1e-6):\n",
    "        self.lr = lr\n",
    "        self.epochs = epochs\n",
    "        self.tolerance = tolerance\n",
    "        self.weight = None\n",
    "        self.losses = []\n",
    "        \n",
    "    def predict(self, X):\n",
    "        y_pred = np.dot(X, self.weight)\n",
    "        return y_pred\n",
    "    \n",
    "    def loss(self, X, y):\n",
    "        y_pred = self.predict(X)\n",
    "        y_hat = y_pred - y\n",
    "        return np.mean(y_hat**2)\n",
    "    \n",
    "    def gradient(self, X, y):\n",
    "        y_pred = self.predict(X)\n",
    "        delta = y - y_pred\n",
    "        dw = np.dot(X.T, delta)\n",
    "        return dw\n",
    "    \n",
    "    def fit(self, X, y):\n",
    "        self.weight = np.zeros((X.shape[1], 1))\n",
    "        for epoch in range(self.epochs):\n",
    "            current_loss = self.loss(X, y)\n",
    "            self.losses.append(current_loss)\n",
    "            \n",
    "            if epoch > 0 and abs(self.losses[-2] - current_loss) < self.tolerance:    \n",
    "                print(f\"Early stopping at epoch {epoch} with loss {current_loss}\")\n",
    "                break\n",
    "            \n",
    "            dw = self.gradient(X, y)\n",
    "            self.weight += self.lr * dw\n",
    "\n",
    "    def evaluate(self, X, y):\n",
    "        y_pred = self.predict(X)\n",
    "        rmse = root_mean_squared_error(y, y_pred)\n",
    "        mae = mean_absolute_error(y, y_pred)\n",
    "        r2 = r2_score(y, y_pred)\n",
    "        \n",
    "        print(f'RMSE: {rmse}')\n",
    "        print(f'MAE: {mae}')\n",
    "        print(f'R2_SCORE: {r2}')"
   ]
  },
  {
   "cell_type": "markdown",
   "metadata": {},
   "source": [
    "### With Bias"
   ]
  },
  {
   "cell_type": "code",
   "execution_count": 161,
   "metadata": {},
   "outputs": [],
   "source": [
    "class LinearClassifierWithBias:\n",
    "    def __init__(self, lr=0.001, epochs=1000, tolerance=1e-6):\n",
    "        self.lr = lr\n",
    "        self.epochs = epochs\n",
    "        self.tolerance = tolerance\n",
    "        self.weight = None\n",
    "        self.losses = []\n",
    "        \n",
    "    def predict(self, X):\n",
    "        y_pred = np.dot(X, self.weight)\n",
    "        return y_pred\n",
    "    \n",
    "    def loss(self, X, y):\n",
    "        y_pred = self.predict(X)\n",
    "        y_hat = y - y_pred\n",
    "        return np.mean(y_hat**2)\n",
    "    \n",
    "    def gradient(self, X, y):\n",
    "        y_pred = self.predict(X)\n",
    "        delta = y - y_pred\n",
    "        dw = np.dot(X.T, delta)\n",
    "        return dw\n",
    "    \n",
    "    def fit(self, X, y):\n",
    "        X_bias = np.c_[np.ones(X.shape[0]), X]\n",
    "        self.weight = np.zeros((X_bias.shape[1], 1))\n",
    "        for epoch in range(self.epochs):\n",
    "            current_loss = self.loss(X_bias, y)\n",
    "            self.losses.append(current_loss)\n",
    "            \n",
    "            if epoch > 0 and abs(self.losses[-2] - current_loss) < self.tolerance:\n",
    "                print(f\"Early stopping at epoch {epoch} with loss {current_loss}\")\n",
    "                break\n",
    "            \n",
    "            dw = self.gradient(X_bias, y)\n",
    "            self.weight += self.lr * dw\n",
    "\n",
    "    def evaluate(self, X, y):\n",
    "        X_bias = np.c_[np.ones(X.shape[0]), X]\n",
    "        y_pred = self.predict(X_bias)\n",
    "        rmse = root_mean_squared_error(y, y_pred)\n",
    "        mae = mean_absolute_error(y, y_pred)\n",
    "        r2 = r2_score(y, y_pred)\n",
    "        \n",
    "        print(f'RMSE: {rmse}')\n",
    "        print(f'MAE: {mae}')\n",
    "        print(f'R2_SCORE: {r2}')"
   ]
  },
  {
   "cell_type": "markdown",
   "metadata": {},
   "source": [
    "# Classification"
   ]
  },
  {
   "cell_type": "markdown",
   "metadata": {},
   "source": [
    "## Binary Logistic Regression"
   ]
  },
  {
   "cell_type": "markdown",
   "metadata": {},
   "source": [
    "### Without Bias"
   ]
  },
  {
   "cell_type": "code",
   "execution_count": 218,
   "metadata": {},
   "outputs": [],
   "source": [
    "class BinaryLogisticRegressionWithoutBias:\n",
    "    def __init__(self, lr=0.1, epochs=1000, tolerance=1e-6):\n",
    "        self.lr = lr\n",
    "        self.epochs = epochs\n",
    "        self.tolerance = tolerance\n",
    "        self.weights = None\n",
    "        self.losses = []\n",
    "        \n",
    "    def sigmoid(self, z):\n",
    "        return np.exp(z) / (1 + np.exp(z))\n",
    "        \n",
    "    def probability_predict(self, X):\n",
    "        y = np.dot(X, self.weights)\n",
    "        return self.sigmoid(y)\n",
    "    \n",
    "    def predict(self, X):\n",
    "        y_pred = self.probability_predict(X)\n",
    "        y_pred = np.where(y_pred >= 0.5, 1, 0)\n",
    "        return y_pred\n",
    "    \n",
    "    def loss(self, X, y):\n",
    "        y_pred = self.probability_predict(X)\n",
    "        epsilon = 1e-15\n",
    "        y_pred = np.clip(y_pred, epsilon, 1 - epsilon)\n",
    "        l = y * np.log(y_pred) + (1 - y) * np.log(1 - y_pred)\n",
    "        return -np.mean(l)\n",
    "    \n",
    "    def gradient(self, X, y):\n",
    "        y_pred = self.probability_predict(X)\n",
    "        delta = y_pred - y\n",
    "        dw = np.dot(X.T, delta)\n",
    "        return dw\n",
    "    \n",
    "    def fit(self, X, y):\n",
    "        self.weights = np.zeros((X.shape[1], 1))\n",
    "        for epoch in range(self.epochs):\n",
    "            current_loss = self.loss(X, y)\n",
    "            self.losses.append(current_loss)\n",
    "            \n",
    "            if epoch > 0 and abs(self.losses[-2] - current_loss) < self.tolerance:\n",
    "                print(f\"Early stopping at epoch {epoch} with loss {current_loss}\")\n",
    "                break\n",
    "            \n",
    "            dw = self.gradient(X, y)\n",
    "            self.weights -= self.lr * dw\n",
    "            \n",
    "    def evaluate(self, X, y):\n",
    "        y_pred = self.predict(X)\n",
    "        \n",
    "        print(f'Accuracy: {accuracy_score(y, y_pred)}')\n",
    "        print(f'Recall: {recall_score(y, y_pred)}')\n",
    "        print(f'Precision: {precision_score(y, y_pred)}')"
   ]
  },
  {
   "cell_type": "markdown",
   "metadata": {},
   "source": [
    "### With Bias"
   ]
  },
  {
   "cell_type": "code",
   "execution_count": 211,
   "metadata": {},
   "outputs": [],
   "source": [
    "class BinaryLogisticRegressionWithBias:\n",
    "    def __init__(self, lr=0.1, epochs=1000, tolerance=1e-6):\n",
    "        self.lr = lr\n",
    "        self.epochs = epochs\n",
    "        self.tolerance = tolerance\n",
    "        self.weights = None\n",
    "        self.losses = []\n",
    "        \n",
    "    def sigmoid(self, z):\n",
    "        return np.exp(z) / (1 + np.exp(z))\n",
    "        \n",
    "    def probability_predict(self, X):\n",
    "        y = np.dot(X, self.weights)\n",
    "        return self.sigmoid(y)\n",
    "    \n",
    "    def predict(self, X):\n",
    "        y_pred = self.probability_predict(X)\n",
    "        y_pred = np.where(y_pred >= 0.5, 1, 0)\n",
    "        return y_pred\n",
    "    \n",
    "    def loss(self, X, y):\n",
    "        y_pred = self.probability_predict(X)\n",
    "        epsilon = 1e-15\n",
    "        y_pred = np.clip(y_pred, epsilon, 1 - epsilon)\n",
    "        l = y * np.log(y_pred) + (1 - y) * np.log(1 - y_pred)\n",
    "        return -np.mean(l)\n",
    "    \n",
    "    def gradient(self, X, y):\n",
    "        y_pred = self.probability_predict(X)\n",
    "        delta = y_pred - y\n",
    "        dw = np.dot(X.T, delta)\n",
    "        return dw\n",
    "    \n",
    "    def fit(self, X, y):\n",
    "        X_bias = np.c_[np.ones(X.shape[0]), X]\n",
    "        self.weights = np.zeros((X_bias.shape[1], 1))\n",
    "        for epoch in range(self.epochs):\n",
    "            current_loss = self.loss(X_bias, y)\n",
    "            self.losses.append(current_loss)\n",
    "            \n",
    "            if epoch > 0 and abs(self.losses[-2] - current_loss) < self.tolerance:\n",
    "                print(f\"Early stopping at epoch {epoch} with loss {current_loss}\")\n",
    "                break\n",
    "            \n",
    "            dw = self.gradient(X_bias, y)\n",
    "            self.weights -= self.lr * dw\n",
    "            \n",
    "    def evaluate(self, X, y):\n",
    "        X_bias = np.c_[np.ones(X.shape[0]), X]\n",
    "        y_pred = self.predict(X_bias)\n",
    "        \n",
    "        print(f'Accuracy: {accuracy_score(y, y_pred)}')\n",
    "        print(f'Recall: {recall_score(y, y_pred)}')\n",
    "        print(f'Precision: {precision_score(y, y_pred)}')"
   ]
  },
  {
   "cell_type": "markdown",
   "metadata": {},
   "source": [
    "## Multiclass Logistic Regression"
   ]
  },
  {
   "cell_type": "markdown",
   "metadata": {},
   "source": [
    "#### Without Bias"
   ]
  },
  {
   "cell_type": "code",
   "execution_count": 326,
   "metadata": {},
   "outputs": [],
   "source": [
    "class MultinomialLogisticRegressionWithoutBias:\n",
    "    def __init__(self, lr=0.1, epochs=1000, tolerance=1e-6):\n",
    "        self.lr = lr\n",
    "        self.epochs = epochs\n",
    "        self.tolerance = tolerance\n",
    "        self.weights = None\n",
    "        self.losses = []\n",
    "        \n",
    "    def softmax(self, X):\n",
    "        exp = np.exp(X)\n",
    "        sum_exp = np.sum(exp, axis=1, keepdims=True)\n",
    "        return exp/sum_exp\n",
    "    \n",
    "    def predict_prob(self, X):\n",
    "        y_hat = X @ self.weights\n",
    "        return self.softmax(y_hat)\n",
    "    \n",
    "    def loss(self, X, y):\n",
    "        y_pred = self.predict_prob(X)\n",
    "        y_pred = np.clip(y_pred, 1e-10, 1 - 1e-10)\n",
    "        log_pred = np.log(y_pred)\n",
    "        loss = -np.sum(y * log_pred)\n",
    "        return np.mean(loss)\n",
    "    \n",
    "    def gradient(self, X, y):\n",
    "        y_pred = self.predict_prob(X)  \n",
    "        delta = y_pred - y\n",
    "        return X.T @ delta\n",
    "    \n",
    "    def fit(self, X, y):\n",
    "        self.weights = np.zeros((X.shape[1], y.shape[1]))\n",
    "        for epoch in range(self.epochs):\n",
    "            current_loss = self.loss(X, y)\n",
    "            self.losses.append(current_loss)\n",
    "            \n",
    "            if epoch > 0 and abs(self.losses[-2] - current_loss) < self.tolerance:\n",
    "                print(f\"Early stopping at epoch {epoch} with loss {current_loss}\")\n",
    "                break\n",
    "            \n",
    "            dw = self.gradient(X, y)\n",
    "            self.weights -= self.lr * dw\n",
    "            \n",
    "    def predict(self, X):\n",
    "        y_pred = self.predict_prob(X)\n",
    "        return np.argmax(y_pred, axis=1)       \n",
    "            \n",
    "    def evaluate(self, X, y):\n",
    "        y_pred = self.predict(X)\n",
    "        \n",
    "        print(f'Accuracy: {accuracy_score(y, y_pred)}')\n",
    "        print(f'Recall: {recall_score(y, y_pred, average=\"macro\", zero_division=1)}')\n",
    "        print(f'Precision: {precision_score(y, y_pred, average=\"macro\", zero_division=1)}')\n",
    "        "
   ]
  },
  {
   "cell_type": "markdown",
   "metadata": {},
   "source": [
    "#### With Bias"
   ]
  },
  {
   "cell_type": "code",
   "execution_count": 336,
   "metadata": {},
   "outputs": [],
   "source": [
    "class MultinomialLogisticRegressionWithBias:\n",
    "    def __init__(self, lr=0.1, epochs=1000, tolerance=1e-6):\n",
    "        self.lr = lr\n",
    "        self.epochs = epochs\n",
    "        self.tolerance = tolerance\n",
    "        self.weights = None\n",
    "        self.losses = []\n",
    "        \n",
    "    def softmax(self, X):\n",
    "        exp = np.exp(X)\n",
    "        sum_exp = np.sum(exp, axis=1, keepdims=True)\n",
    "        return exp/sum_exp\n",
    "    \n",
    "    def predict_prob(self, X):\n",
    "        y_hat = X @ self.weights\n",
    "        return self.softmax(y_hat)\n",
    "    \n",
    "    def loss(self, X, y):\n",
    "        y_pred = self.predict_prob(X)\n",
    "        y_pred = np.clip(y_pred, 1e-10, 1 - 1e-10)\n",
    "        log_pred = np.log(y_pred)\n",
    "        loss = -np.sum(y * log_pred)\n",
    "        return np.mean(loss)\n",
    "    \n",
    "    def gradient(self, X, y):\n",
    "        y_pred = self.predict_prob(X)  \n",
    "        delta = y_pred - y\n",
    "        return X.T @ delta\n",
    "    \n",
    "    def fit(self, X, y):\n",
    "        X_bias = np.c_[np.ones(X.shape[0]), X]\n",
    "        self.weights = np.zeros((X_bias.shape[1], y.shape[1]))\n",
    "        for epoch in range(self.epochs):\n",
    "            current_loss = self.loss(X_bias, y)\n",
    "            self.losses.append(current_loss)\n",
    "            \n",
    "            if epoch > 0 and abs(self.losses[-2] - current_loss) < self.tolerance:\n",
    "                print(f\"Early stopping at epoch {epoch} with loss {current_loss}\")\n",
    "                break\n",
    "            \n",
    "            dw = self.gradient(X_bias, y)\n",
    "            self.weights -= self.lr * dw\n",
    "            \n",
    "    def predict(self, X):\n",
    "        y_pred = self.predict_prob(X)\n",
    "        return np.argmax(y_pred, axis=1)       \n",
    "            \n",
    "    def evaluate(self, X, y):\n",
    "        X_bias = np.c_[np.ones(X.shape[0]), X]\n",
    "        y_pred = self.predict(X_bias)\n",
    "        \n",
    "        print(f'Accuracy: {accuracy_score(y, y_pred)}')\n",
    "        print(f'Recall: {recall_score(y, y_pred, average=\"macro\", zero_division=1)}')\n",
    "        print(f'Precision: {precision_score(y, y_pred, average=\"macro\", zero_division=1)}')\n",
    "        "
   ]
  },
  {
   "cell_type": "markdown",
   "metadata": {},
   "source": [
    "# Test model"
   ]
  },
  {
   "cell_type": "markdown",
   "metadata": {},
   "source": [
    "## Classifier"
   ]
  },
  {
   "cell_type": "markdown",
   "metadata": {},
   "source": [
    "### Binary Logistic Regression"
   ]
  },
  {
   "cell_type": "markdown",
   "metadata": {},
   "source": [
    "#### Without Bias"
   ]
  },
  {
   "cell_type": "markdown",
   "metadata": {},
   "source": [
    "##### Data 1"
   ]
  },
  {
   "cell_type": "code",
   "execution_count": 219,
   "metadata": {},
   "outputs": [
    {
     "name": "stdout",
     "output_type": "stream",
     "text": [
      "(320, 3) (80, 3)\n",
      "(320, 1) (80, 1)\n"
     ]
    }
   ],
   "source": [
    "scaler_X = MinMaxScaler()\n",
    "\n",
    "X_scaled = scaler_X.fit_transform(X_dc_1)\n",
    "y = y_dc_1.reshape(-1, 1)\n",
    "\n",
    "X_train, X_test, y_train, y_test = train_test_split(X_scaled, y, test_size=0.2, random_state=42)\n",
    "\n",
    "print(X_train.shape, X_test.shape)\n",
    "print(y_train.shape, y_test.shape)"
   ]
  },
  {
   "cell_type": "code",
   "execution_count": 220,
   "metadata": {},
   "outputs": [
    {
     "name": "stdout",
     "output_type": "stream",
     "text": [
      "Early stopping at epoch 29 with loss 0.6517303183180065\n",
      "Train: \n",
      "Accuracy: 0.53125\n",
      "Recall: 0.5217391304347826\n",
      "Precision: 0.3870967741935484\n",
      "Test: \n",
      "Accuracy: 0.5375\n",
      "Recall: 0.6071428571428571\n",
      "Precision: 0.3953488372093023\n"
     ]
    },
    {
     "data": {
      "text/plain": [
       "[<matplotlib.lines.Line2D at 0x20a4d80b6e0>]"
      ]
     },
     "execution_count": 220,
     "metadata": {},
     "output_type": "execute_result"
    },
    {
     "data": {
      "image/png": "[encoded data removed]",
      "text/plain": [
       "<Figure size 640x480 with 1 Axes>"
      ]
     },
     "metadata": {},
     "output_type": "display_data"
    }
   ],
   "source": [
    "model = BinaryLogisticRegressionWithoutBias(lr=0.03)\n",
    "model.fit(X_train, y_train)\n",
    "print(\"Train: \")\n",
    "model.evaluate(X_train, y_train)\n",
    "print(\"Test: \")\n",
    "model.evaluate(X_test, y_test)\n",
    "plt.plot(model.losses)"
   ]
  },
  {
   "cell_type": "markdown",
   "metadata": {},
   "source": [
    "#### With Bias"
   ]
  },
  {
   "cell_type": "code",
   "execution_count": 212,
   "metadata": {},
   "outputs": [
    {
     "name": "stdout",
     "output_type": "stream",
     "text": [
      "(320, 3) (80, 3)\n",
      "(320, 1) (80, 1)\n"
     ]
    }
   ],
   "source": [
    "scaler_X = MinMaxScaler()\n",
    "\n",
    "X_scaled = scaler_X.fit_transform(X_dc_1)\n",
    "y = y_dc_1.reshape(-1, 1)\n",
    "\n",
    "X_train, X_test, y_train, y_test = train_test_split(X_scaled, y, test_size=0.2, random_state=42)\n",
    "\n",
    "print(X_train.shape, X_test.shape)\n",
    "print(y_train.shape, y_test.shape)"
   ]
  },
  {
   "cell_type": "code",
   "execution_count": 215,
   "metadata": {},
   "outputs": [
    {
     "name": "stdout",
     "output_type": "stream",
     "text": [
      "Early stopping at epoch 403 with loss 0.3714338776061217\n",
      "Train: \n",
      "Accuracy: 0.828125\n",
      "Recall: 0.6608695652173913\n",
      "Precision: 0.8260869565217391\n",
      "Test: \n",
      "Accuracy: 0.8875\n",
      "Recall: 0.75\n",
      "Precision: 0.9130434782608695\n"
     ]
    },
    {
     "data": {
      "text/plain": [
       "[<matplotlib.lines.Line2D at 0x20a4d98a4b0>]"
      ]
     },
     "execution_count": 215,
     "metadata": {},
     "output_type": "execute_result"
    },
    {
     "data": {
      "image/png": "[encoded data removed]",
      "text/plain": [
       "<Figure size 640x480 with 1 Axes>"
      ]
     },
     "metadata": {},
     "output_type": "display_data"
    }
   ],
   "source": [
    "model = BinaryLogisticRegressionWithBias(lr=0.015)\n",
    "model.fit(X_train, y_train)\n",
    "print(\"Train: \")\n",
    "model.evaluate(X_train, y_train)\n",
    "print(\"Test: \")\n",
    "model.evaluate(X_test, y_test)\n",
    "plt.plot(model.losses)"
   ]
  },
  {
   "cell_type": "markdown",
   "metadata": {},
   "source": [
    "### Multinomial Logistic Regression"
   ]
  },
  {
   "cell_type": "markdown",
   "metadata": {},
   "source": [
    "#### Without Bias"
   ]
  },
  {
   "cell_type": "code",
   "execution_count": 322,
   "metadata": {},
   "outputs": [
    {
     "name": "stdout",
     "output_type": "stream",
     "text": [
      "(162, 12600) (41, 12600)\n",
      "(162, 5) (41, 5)\n"
     ]
    }
   ],
   "source": [
    "scaler_X = MinMaxScaler()\n",
    "encoder = OneHotEncoder()\n",
    "\n",
    "X_scaled = scaler_X.fit_transform(X_dc_2)\n",
    "y_dc_2 = y_dc_2.reshape(-1, 1)\n",
    "y_one_hot = encoder.fit_transform(y_dc_2).toarray()\n",
    "\n",
    "X_train, X_test, y_train, y_test = train_test_split(X_scaled, y_one_hot, test_size=0.2, random_state=42)\n",
    "\n",
    "print(X_train.shape, X_test.shape)\n",
    "print(y_train.shape, y_test.shape)"
   ]
  },
  {
   "cell_type": "code",
   "execution_count": 327,
   "metadata": {},
   "outputs": [
    {
     "name": "stdout",
     "output_type": "stream",
     "text": [
      "\n",
      "Train: \n",
      "Accuracy: 0.9876543209876543\n",
      "Recall: 0.9828296703296704\n",
      "Precision: 0.9848809523809525\n",
      "\n",
      "Test: \n",
      "Accuracy: 0.9512195121951219\n",
      "Recall: 0.8854166666666666\n",
      "Precision: 0.9827586206896551\n"
     ]
    },
    {
     "data": {
      "text/plain": [
       "[<matplotlib.lines.Line2D at 0x20a51964b60>]"
      ]
     },
     "execution_count": 327,
     "metadata": {},
     "output_type": "execute_result"
    },
    {
     "data": {
      "image/png": "[encoded data removed]",
      "text/plain": [
       "<Figure size 640x480 with 1 Axes>"
      ]
     },
     "metadata": {},
     "output_type": "display_data"
    }
   ],
   "source": [
    "model = MultinomialLogisticRegressionWithoutBias(lr=0.00001)\n",
    "model.fit(X_train, y_train)\n",
    "print(\"\\nTrain: \")\n",
    "model.evaluate(X_train, encoder.inverse_transform(y_train))\n",
    "print(\"\\nTest: \")\n",
    "model.evaluate(X_test, encoder.inverse_transform(y_test))\n",
    "plt.plot(model.losses)"
   ]
  },
  {
   "cell_type": "code",
   "execution_count": 330,
   "metadata": {},
   "outputs": [],
   "source": [
    "data = pd.read_csv(\"E:/VSCode/Python/Machine_Learning/Data/data_comparing/SRBCT_txt.csv\")\n",
    "X = data.iloc[:, 1:].values\n",
    "y = data.iloc[:, 0].values"
   ]
  },
  {
   "cell_type": "code",
   "execution_count": 331,
   "metadata": {},
   "outputs": [
    {
     "name": "stdout",
     "output_type": "stream",
     "text": [
      "(50, 2308) (13, 2308)\n",
      "(50, 4) (13, 4)\n"
     ]
    }
   ],
   "source": [
    "scaler_X = MinMaxScaler()\n",
    "encoder = OneHotEncoder()\n",
    "\n",
    "X_scaled = scaler_X.fit_transform(X)\n",
    "y = y.reshape(-1, 1)\n",
    "y_one_hot = encoder.fit_transform(y).toarray()\n",
    "\n",
    "X_train, X_test, y_train, y_test = train_test_split(X_scaled, y_one_hot, test_size=0.2, random_state=42)\n",
    "\n",
    "print(X_train.shape, X_test.shape)\n",
    "print(y_train.shape, y_test.shape)"
   ]
  },
  {
   "cell_type": "code",
   "execution_count": 335,
   "metadata": {},
   "outputs": [
    {
     "name": "stdout",
     "output_type": "stream",
     "text": [
      "\n",
      "Train: \n",
      "Accuracy: 1.0\n",
      "Recall: 1.0\n",
      "Precision: 1.0\n",
      "\n",
      "Test: \n",
      "Accuracy: 0.9230769230769231\n",
      "Recall: 0.95\n",
      "Precision: 0.9583333333333334\n"
     ]
    },
    {
     "data": {
      "text/plain": [
       "[<matplotlib.lines.Line2D at 0x20a530ed520>]"
      ]
     },
     "execution_count": 335,
     "metadata": {},
     "output_type": "execute_result"
    },
    {
     "data": {
      "image/png": "[encoded data removed]",
      "text/plain": [
       "<Figure size 640x480 with 1 Axes>"
      ]
     },
     "metadata": {},
     "output_type": "display_data"
    }
   ],
   "source": [
    "model = MultinomialLogisticRegressionWithoutBias(lr=0.0001)\n",
    "model.fit(X_train, y_train)\n",
    "print(\"\\nTrain: \")\n",
    "model.evaluate(X_train, encoder.inverse_transform(y_train))\n",
    "print(\"\\nTest: \")\n",
    "model.evaluate(X_test, encoder.inverse_transform(y_test))\n",
    "plt.plot(model.losses)"
   ]
  },
  {
   "cell_type": "markdown",
   "metadata": {},
   "source": [
    "#### With Bias"
   ]
  },
  {
   "cell_type": "code",
   "execution_count": 337,
   "metadata": {},
   "outputs": [
    {
     "name": "stdout",
     "output_type": "stream",
     "text": [
      "(162, 12600) (41, 12600)\n",
      "(162, 5) (41, 5)\n"
     ]
    }
   ],
   "source": [
    "scaler_X = MinMaxScaler()\n",
    "encoder = OneHotEncoder()\n",
    "\n",
    "X_scaled = scaler_X.fit_transform(X_dc_2)\n",
    "y_dc_2 = y_dc_2.reshape(-1, 1)\n",
    "y_one_hot = encoder.fit_transform(y_dc_2).toarray()\n",
    "\n",
    "X_train, X_test, y_train, y_test = train_test_split(X_scaled, y_one_hot, test_size=0.2, random_state=42)\n",
    "\n",
    "print(X_train.shape, X_test.shape)\n",
    "print(y_train.shape, y_test.shape)"
   ]
  },
  {
   "cell_type": "code",
   "execution_count": 341,
   "metadata": {},
   "outputs": [
    {
     "name": "stdout",
     "output_type": "stream",
     "text": [
      "\n",
      "Train: \n",
      "Accuracy: 0.9876543209876543\n",
      "Recall: 0.9828296703296704\n",
      "Precision: 0.9848809523809525\n",
      "\n",
      "Test: \n",
      "Accuracy: 0.9512195121951219\n",
      "Recall: 0.8854166666666666\n",
      "Precision: 0.9827586206896551\n"
     ]
    },
    {
     "data": {
      "text/plain": [
       "[<matplotlib.lines.Line2D at 0x20a53aa1700>]"
      ]
     },
     "execution_count": 341,
     "metadata": {},
     "output_type": "execute_result"
    },
    {
     "data": {
      "image/png": "[encoded data removed]",
      "text/plain": [
       "<Figure size 640x480 with 1 Axes>"
      ]
     },
     "metadata": {},
     "output_type": "display_data"
    }
   ],
   "source": [
    "model = MultinomialLogisticRegressionWithBias(lr=0.000015)\n",
    "model.fit(X_train, y_train)\n",
    "print(\"\\nTrain: \")\n",
    "model.evaluate(X_train, encoder.inverse_transform(y_train))\n",
    "print(\"\\nTest: \")\n",
    "model.evaluate(X_test, encoder.inverse_transform(y_test))\n",
    "plt.plot(model.losses)"
   ]
  },
  {
   "cell_type": "code",
   "execution_count": 342,
   "metadata": {},
   "outputs": [
    {
     "name": "stdout",
     "output_type": "stream",
     "text": [
      "(50, 2308) (13, 2308)\n",
      "(50, 4) (13, 4)\n"
     ]
    }
   ],
   "source": [
    "data = pd.read_csv(\"E:/VSCode/Python/Machine_Learning/Data/data_comparing/SRBCT_txt.csv\")\n",
    "X = data.iloc[:, 1:].values\n",
    "y = data.iloc[:, 0].values\n",
    "\n",
    "scaler_X = MinMaxScaler()\n",
    "encoder = OneHotEncoder()\n",
    "\n",
    "X_scaled = scaler_X.fit_transform(X)\n",
    "y = y.reshape(-1, 1)\n",
    "y_one_hot = encoder.fit_transform(y).toarray()\n",
    "\n",
    "X_train, X_test, y_train, y_test = train_test_split(X_scaled, y_one_hot, test_size=0.2, random_state=42)\n",
    "\n",
    "print(X_train.shape, X_test.shape)\n",
    "print(y_train.shape, y_test.shape)"
   ]
  },
  {
   "cell_type": "code",
   "execution_count": 343,
   "metadata": {},
   "outputs": [
    {
     "name": "stdout",
     "output_type": "stream",
     "text": [
      "\n",
      "Train: \n",
      "Accuracy: 1.0\n",
      "Recall: 1.0\n",
      "Precision: 1.0\n",
      "\n",
      "Test: \n",
      "Accuracy: 0.9230769230769231\n",
      "Recall: 0.95\n",
      "Precision: 0.9583333333333334\n"
     ]
    },
    {
     "data": {
      "text/plain": [
       "[<matplotlib.lines.Line2D at 0x20a52b7d8e0>]"
      ]
     },
     "execution_count": 343,
     "metadata": {},
     "output_type": "execute_result"
    },
    {
     "data": {
      "image/png": "[encoded data removed]",
      "text/plain": [
       "<Figure size 640x480 with 1 Axes>"
      ]
     },
     "metadata": {},
     "output_type": "display_data"
    }
   ],
   "source": [
    "model = MultinomialLogisticRegressionWithBias(lr=0.0001)\n",
    "model.fit(X_train, y_train)\n",
    "print(\"\\nTrain: \")\n",
    "model.evaluate(X_train, encoder.inverse_transform(y_train))\n",
    "print(\"\\nTest: \")\n",
    "model.evaluate(X_test, encoder.inverse_transform(y_test))\n",
    "plt.plot(model.losses)"
   ]
  },
  {
   "cell_type": "markdown",
   "metadata": {},
   "source": [
    "## Regession"
   ]
  },
  {
   "cell_type": "markdown",
   "metadata": {},
   "source": [
    "### Linear Regression"
   ]
  },
  {
   "cell_type": "markdown",
   "metadata": {},
   "source": [
    "#### Without Bias"
   ]
  },
  {
   "cell_type": "markdown",
   "metadata": {},
   "source": [
    "##### Data 1"
   ]
  },
  {
   "cell_type": "code",
   "execution_count": 155,
   "metadata": {},
   "outputs": [
    {
     "name": "stdout",
     "output_type": "stream",
     "text": [
      "(40, 3) (10, 3)\n",
      "(40, 1) (10, 1)\n"
     ]
    }
   ],
   "source": [
    "scaler_X = MinMaxScaler()\n",
    "scaler_y = MinMaxScaler()\n",
    "\n",
    "X_scaled = scaler_X.fit_transform(X_dr_1)\n",
    "y_scaled = scaler_y.fit_transform(y_dr_1.reshape(-1, 1))\n",
    "\n",
    "X_train, X_test, y_train, y_test = train_test_split(X_scaled, y_scaled, test_size=0.2, random_state=42)\n",
    "\n",
    "print(X_train.shape, X_test.shape)\n",
    "print(y_train.shape, y_test.shape)"
   ]
  },
  {
   "cell_type": "code",
   "execution_count": 159,
   "metadata": {},
   "outputs": [
    {
     "name": "stdout",
     "output_type": "stream",
     "text": [
      "Early stopping at epoch 204 with loss 0.0055208590192430285\n",
      "\n",
      "Train:\n",
      "RMSE: 0.07430248326430974\n",
      "MAE: 0.0629324927639316\n",
      "R2_SCORE: 0.8988652395950942\n",
      "\n",
      "Test:\n",
      "RMSE: 0.09820949875154839\n",
      "MAE: 0.08494378990448408\n",
      "R2_SCORE: 0.6244016515745351\n"
     ]
    },
    {
     "data": {
      "text/plain": [
       "[<matplotlib.lines.Line2D at 0x20a4a24b500>]"
      ]
     },
     "execution_count": 159,
     "metadata": {},
     "output_type": "execute_result"
    },
    {
     "data": {
      "image/png": "[encoded data removed]",
      "text/plain": [
       "<Figure size 640x480 with 1 Axes>"
      ]
     },
     "metadata": {},
     "output_type": "display_data"
    }
   ],
   "source": [
    "model = LinearClassifierWithoutBias(lr=0.01)\n",
    "model.fit(X_train, y_train)\n",
    "print('\\nTrain:')\n",
    "model.evaluate(X_train, y_train)\n",
    "print('\\nTest:')\n",
    "model.evaluate(X_test, y_test)\n",
    "plt.plot(model.losses)"
   ]
  },
  {
   "cell_type": "markdown",
   "metadata": {},
   "source": [
    "##### Data 2"
   ]
  },
  {
   "cell_type": "code",
   "execution_count": 162,
   "metadata": {},
   "outputs": [
    {
     "name": "stdout",
     "output_type": "stream",
     "text": [
      "(313, 7) (79, 7)\n",
      "(313, 1) (79, 1)\n"
     ]
    }
   ],
   "source": [
    "scaler_X = MinMaxScaler()\n",
    "scaler_y = MinMaxScaler()\n",
    "\n",
    "X_scaled = scaler_X.fit_transform(X_dr_2)\n",
    "y_scaled = scaler_y.fit_transform(y_dr_2.reshape(-1, 1))\n",
    "\n",
    "X_train, X_test, y_train, y_test = train_test_split(X_scaled, y_scaled, test_size=0.2, random_state=42)\n",
    "\n",
    "print(X_train.shape, X_test.shape)\n",
    "print(y_train.shape, y_test.shape)"
   ]
  },
  {
   "cell_type": "code",
   "execution_count": 165,
   "metadata": {},
   "outputs": [
    {
     "name": "stdout",
     "output_type": "stream",
     "text": [
      "Early stopping at epoch 949 with loss 0.012563917999924184\n",
      "\n",
      "Train:\n",
      "RMSE: 0.11208888437273423\n",
      "MAE: 0.08940550540633438\n",
      "R2_SCORE: 0.7185033791676092\n",
      "\n",
      "Test:\n",
      "RMSE: 0.11080157201161149\n",
      "MAE: 0.0882831887691676\n",
      "R2_SCORE: 0.6599428540498631\n"
     ]
    },
    {
     "data": {
      "text/plain": [
       "[<matplotlib.lines.Line2D at 0x20a4a812ba0>]"
      ]
     },
     "execution_count": 165,
     "metadata": {},
     "output_type": "execute_result"
    },
    {
     "data": {
      "image/png": "[encoded data removed]",
      "text/plain": [
       "<Figure size 640x480 with 1 Axes>"
      ]
     },
     "metadata": {},
     "output_type": "display_data"
    }
   ],
   "source": [
    "model = LinearClassifierWithoutBias(lr=0.001)\n",
    "model.fit(X_train, y_train)\n",
    "print('\\nTrain:')\n",
    "model.evaluate(X_train, y_train)\n",
    "print('\\nTest:')\n",
    "model.evaluate(X_test, y_test)\n",
    "plt.plot(model.losses)"
   ]
  },
  {
   "cell_type": "markdown",
   "metadata": {},
   "source": [
    "#### With Bias"
   ]
  },
  {
   "cell_type": "markdown",
   "metadata": {},
   "source": [
    "##### Data 1"
   ]
  },
  {
   "cell_type": "code",
   "execution_count": 166,
   "metadata": {},
   "outputs": [
    {
     "name": "stdout",
     "output_type": "stream",
     "text": [
      "(40, 3) (10, 3)\n",
      "(40, 1) (10, 1)\n"
     ]
    }
   ],
   "source": [
    "scaler_X = MinMaxScaler()\n",
    "scaler_y = MinMaxScaler()\n",
    "\n",
    "X_scaled = scaler_X.fit_transform(X_dr_1)\n",
    "y_scaled = scaler_y.fit_transform(y_dr_1.reshape(-1, 1))\n",
    "\n",
    "X_train, X_test, y_train, y_test = train_test_split(X_scaled, y_scaled, test_size=0.2, random_state=42)\n",
    "\n",
    "print(X_train.shape, X_test.shape)\n",
    "print(y_train.shape, y_test.shape)"
   ]
  },
  {
   "cell_type": "code",
   "execution_count": 168,
   "metadata": {},
   "outputs": [
    {
     "name": "stdout",
     "output_type": "stream",
     "text": [
      "Early stopping at epoch 310 with loss 0.0026290961984463375\n",
      "\n",
      "Train:\n",
      "RMSE: 0.05127471305084347\n",
      "MAE: 0.038602478439591234\n",
      "R2_SCORE: 0.9518384705741362\n",
      "\n",
      "Test:\n",
      "RMSE: 0.05306581077162954\n",
      "MAE: 0.043124332021650405\n",
      "R2_SCORE: 0.8903404919959312\n"
     ]
    },
    {
     "data": {
      "text/plain": [
       "[<matplotlib.lines.Line2D at 0x20a4a92d3d0>]"
      ]
     },
     "execution_count": 168,
     "metadata": {},
     "output_type": "execute_result"
    },
    {
     "data": {
      "image/png": "[encoded data removed]",
      "text/plain": [
       "<Figure size 640x480 with 1 Axes>"
      ]
     },
     "metadata": {},
     "output_type": "display_data"
    }
   ],
   "source": [
    "model = LinearClassifierWithBias(lr=0.01)\n",
    "model.fit(X_train, y_train)\n",
    "print('\\nTrain:')\n",
    "model.evaluate(X_train, y_train)\n",
    "print('\\nTest:')\n",
    "model.evaluate(X_test, y_test)\n",
    "plt.plot(model.losses)"
   ]
  },
  {
   "cell_type": "markdown",
   "metadata": {},
   "source": [
    "##### Data 2"
   ]
  },
  {
   "cell_type": "code",
   "execution_count": null,
   "metadata": {},
   "outputs": [],
   "source": [
    "scaler_X = MinMaxScaler()\n",
    "scaler_y = MinMaxScaler()\n",
    "\n",
    "X_scaled = scaler_X.fit_transform(X_dr_2)\n",
    "y_scaled = scaler_y.fit_transform(y_dr_2.reshape(-1, 1))\n",
    "\n",
    "X_train, X_test, y_train, y_test = train_test_split(X_scaled, y_scaled, test_size=0.2, random_state=42)\n",
    "\n",
    "print(X_train.shape, X_test.shape)\n",
    "print(y_train.shape, y_test.shape)"
   ]
  },
  {
   "cell_type": "code",
   "execution_count": 169,
   "metadata": {},
   "outputs": [
    {
     "name": "stdout",
     "output_type": "stream",
     "text": [
      "Early stopping at epoch 310 with loss 0.0026290961984463375\n",
      "\n",
      "Train:\n",
      "RMSE: 0.05127471305084347\n",
      "MAE: 0.038602478439591234\n",
      "R2_SCORE: 0.9518384705741362\n",
      "\n",
      "Test:\n",
      "RMSE: 0.05306581077162954\n",
      "MAE: 0.043124332021650405\n",
      "R2_SCORE: 0.8903404919959312\n"
     ]
    },
    {
     "data": {
      "text/plain": [
       "[<matplotlib.lines.Line2D at 0x20a4a9a0080>]"
      ]
     },
     "execution_count": 169,
     "metadata": {},
     "output_type": "execute_result"
    },
    {
     "data": {
      "image/png": "[encoded data removed]",
      "text/plain": [
       "<Figure size 640x480 with 1 Axes>"
      ]
     },
     "metadata": {},
     "output_type": "display_data"
    }
   ],
   "source": [
    "model = LinearClassifierWithBias(lr=0.01)\n",
    "model.fit(X_train, y_train)\n",
    "print('\\nTrain:')\n",
    "model.evaluate(X_train, y_train)\n",
    "print('\\nTest:')\n",
    "model.evaluate(X_test, y_test)\n",
    "plt.plot(model.losses)"
   ]
  },
  {
   "cell_type": "markdown",
   "metadata": {},
   "source": [
    "##### Data 1"
   ]
  },
  {
   "cell_type": "markdown",
   "metadata": {},
   "source": [
    "##### Data 2"
   ]
  }
 ],
 "metadata": {
  "kernelspec": {
   "display_name": "Python 3",
   "language": "python",
   "name": "python3"
  },
  "language_info": {
   "codemirror_mode": {
    "name": "ipython",
    "version": 3
   },
   "file_extension": ".py",
   "mimetype": "text/x-python",
   "name": "python",
   "nbconvert_exporter": "python",
   "pygments_lexer": "ipython3",
   "version": "3.12.5"
  }
 },
 "nbformat": 4,
 "nbformat_minor": 2
}
